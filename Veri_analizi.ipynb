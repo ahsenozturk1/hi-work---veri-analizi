{
  "nbformat": 4,
  "nbformat_minor": 0,
  "metadata": {
    "colab": {
      "provenance": [],
      "include_colab_link": true
    },
    "kernelspec": {
      "name": "python3",
      "display_name": "Python 3"
    },
    "language_info": {
      "name": "python"
    }
  },
  "cells": [
    {
      "cell_type": "markdown",
      "metadata": {
        "id": "view-in-github",
        "colab_type": "text"
      },
      "source": [
        "<a href=\"https://colab.research.google.com/github/ahsenozturk1/hi-work---veri-analizi/blob/main/Veri_analizi.ipynb\" target=\"_parent\"><img src=\"https://colab.research.google.com/assets/colab-badge.svg\" alt=\"Open In Colab\"/></a>"
      ]
    },
    {
      "cell_type": "markdown",
      "source": [
        "# AQUASTAT VERİSETİNİ TANIMA"
      ],
      "metadata": {
        "id": "3Xv5QToAvYSQ"
      }
    },
    {
      "cell_type": "code",
      "execution_count": null,
      "metadata": {
        "id": "SxOVnxceaP51"
      },
      "outputs": [],
      "source": [
        "import pandas as pd\n",
        "import numpy as np\n",
        "import matplotlib.pyplot as plt\n",
        "import seaborn as sns"
      ]
    },
    {
      "cell_type": "code",
      "source": [
        "from google.colab import files\n",
        "uploaded = files.upload()"
      ],
      "metadata": {
        "colab": {
          "base_uri": "https://localhost:8080/"
        },
        "id": "zIn4iwOjcvJn",
        "outputId": "b4f6f650-bf0d-47d5-8cb8-623c93d1a41b"
      },
      "execution_count": null,
      "outputs": [
        {
          "output_type": "display_data",
          "data": {
            "text/plain": [
              "<IPython.core.display.HTML object>"
            ],
            "text/html": [
              "\n",
              "     <input type=\"file\" id=\"files-3bb4b405-001f-4619-a1d6-73b490cb49e0\" name=\"files[]\" multiple disabled\n",
              "        style=\"border:none\" />\n",
              "     <output id=\"result-3bb4b405-001f-4619-a1d6-73b490cb49e0\">\n",
              "      Upload widget is only available when the cell has been executed in the\n",
              "      current browser session. Please rerun this cell to enable.\n",
              "      </output>\n",
              "      <script>// Copyright 2017 Google LLC\n",
              "//\n",
              "// Licensed under the Apache License, Version 2.0 (the \"License\");\n",
              "// you may not use this file except in compliance with the License.\n",
              "// You may obtain a copy of the License at\n",
              "//\n",
              "//      http://www.apache.org/licenses/LICENSE-2.0\n",
              "//\n",
              "// Unless required by applicable law or agreed to in writing, software\n",
              "// distributed under the License is distributed on an \"AS IS\" BASIS,\n",
              "// WITHOUT WARRANTIES OR CONDITIONS OF ANY KIND, either express or implied.\n",
              "// See the License for the specific language governing permissions and\n",
              "// limitations under the License.\n",
              "\n",
              "/**\n",
              " * @fileoverview Helpers for google.colab Python module.\n",
              " */\n",
              "(function(scope) {\n",
              "function span(text, styleAttributes = {}) {\n",
              "  const element = document.createElement('span');\n",
              "  element.textContent = text;\n",
              "  for (const key of Object.keys(styleAttributes)) {\n",
              "    element.style[key] = styleAttributes[key];\n",
              "  }\n",
              "  return element;\n",
              "}\n",
              "\n",
              "// Max number of bytes which will be uploaded at a time.\n",
              "const MAX_PAYLOAD_SIZE = 100 * 1024;\n",
              "\n",
              "function _uploadFiles(inputId, outputId) {\n",
              "  const steps = uploadFilesStep(inputId, outputId);\n",
              "  const outputElement = document.getElementById(outputId);\n",
              "  // Cache steps on the outputElement to make it available for the next call\n",
              "  // to uploadFilesContinue from Python.\n",
              "  outputElement.steps = steps;\n",
              "\n",
              "  return _uploadFilesContinue(outputId);\n",
              "}\n",
              "\n",
              "// This is roughly an async generator (not supported in the browser yet),\n",
              "// where there are multiple asynchronous steps and the Python side is going\n",
              "// to poll for completion of each step.\n",
              "// This uses a Promise to block the python side on completion of each step,\n",
              "// then passes the result of the previous step as the input to the next step.\n",
              "function _uploadFilesContinue(outputId) {\n",
              "  const outputElement = document.getElementById(outputId);\n",
              "  const steps = outputElement.steps;\n",
              "\n",
              "  const next = steps.next(outputElement.lastPromiseValue);\n",
              "  return Promise.resolve(next.value.promise).then((value) => {\n",
              "    // Cache the last promise value to make it available to the next\n",
              "    // step of the generator.\n",
              "    outputElement.lastPromiseValue = value;\n",
              "    return next.value.response;\n",
              "  });\n",
              "}\n",
              "\n",
              "/**\n",
              " * Generator function which is called between each async step of the upload\n",
              " * process.\n",
              " * @param {string} inputId Element ID of the input file picker element.\n",
              " * @param {string} outputId Element ID of the output display.\n",
              " * @return {!Iterable<!Object>} Iterable of next steps.\n",
              " */\n",
              "function* uploadFilesStep(inputId, outputId) {\n",
              "  const inputElement = document.getElementById(inputId);\n",
              "  inputElement.disabled = false;\n",
              "\n",
              "  const outputElement = document.getElementById(outputId);\n",
              "  outputElement.innerHTML = '';\n",
              "\n",
              "  const pickedPromise = new Promise((resolve) => {\n",
              "    inputElement.addEventListener('change', (e) => {\n",
              "      resolve(e.target.files);\n",
              "    });\n",
              "  });\n",
              "\n",
              "  const cancel = document.createElement('button');\n",
              "  inputElement.parentElement.appendChild(cancel);\n",
              "  cancel.textContent = 'Cancel upload';\n",
              "  const cancelPromise = new Promise((resolve) => {\n",
              "    cancel.onclick = () => {\n",
              "      resolve(null);\n",
              "    };\n",
              "  });\n",
              "\n",
              "  // Wait for the user to pick the files.\n",
              "  const files = yield {\n",
              "    promise: Promise.race([pickedPromise, cancelPromise]),\n",
              "    response: {\n",
              "      action: 'starting',\n",
              "    }\n",
              "  };\n",
              "\n",
              "  cancel.remove();\n",
              "\n",
              "  // Disable the input element since further picks are not allowed.\n",
              "  inputElement.disabled = true;\n",
              "\n",
              "  if (!files) {\n",
              "    return {\n",
              "      response: {\n",
              "        action: 'complete',\n",
              "      }\n",
              "    };\n",
              "  }\n",
              "\n",
              "  for (const file of files) {\n",
              "    const li = document.createElement('li');\n",
              "    li.append(span(file.name, {fontWeight: 'bold'}));\n",
              "    li.append(span(\n",
              "        `(${file.type || 'n/a'}) - ${file.size} bytes, ` +\n",
              "        `last modified: ${\n",
              "            file.lastModifiedDate ? file.lastModifiedDate.toLocaleDateString() :\n",
              "                                    'n/a'} - `));\n",
              "    const percent = span('0% done');\n",
              "    li.appendChild(percent);\n",
              "\n",
              "    outputElement.appendChild(li);\n",
              "\n",
              "    const fileDataPromise = new Promise((resolve) => {\n",
              "      const reader = new FileReader();\n",
              "      reader.onload = (e) => {\n",
              "        resolve(e.target.result);\n",
              "      };\n",
              "      reader.readAsArrayBuffer(file);\n",
              "    });\n",
              "    // Wait for the data to be ready.\n",
              "    let fileData = yield {\n",
              "      promise: fileDataPromise,\n",
              "      response: {\n",
              "        action: 'continue',\n",
              "      }\n",
              "    };\n",
              "\n",
              "    // Use a chunked sending to avoid message size limits. See b/62115660.\n",
              "    let position = 0;\n",
              "    do {\n",
              "      const length = Math.min(fileData.byteLength - position, MAX_PAYLOAD_SIZE);\n",
              "      const chunk = new Uint8Array(fileData, position, length);\n",
              "      position += length;\n",
              "\n",
              "      const base64 = btoa(String.fromCharCode.apply(null, chunk));\n",
              "      yield {\n",
              "        response: {\n",
              "          action: 'append',\n",
              "          file: file.name,\n",
              "          data: base64,\n",
              "        },\n",
              "      };\n",
              "\n",
              "      let percentDone = fileData.byteLength === 0 ?\n",
              "          100 :\n",
              "          Math.round((position / fileData.byteLength) * 100);\n",
              "      percent.textContent = `${percentDone}% done`;\n",
              "\n",
              "    } while (position < fileData.byteLength);\n",
              "  }\n",
              "\n",
              "  // All done.\n",
              "  yield {\n",
              "    response: {\n",
              "      action: 'complete',\n",
              "    }\n",
              "  };\n",
              "}\n",
              "\n",
              "scope.google = scope.google || {};\n",
              "scope.google.colab = scope.google.colab || {};\n",
              "scope.google.colab._files = {\n",
              "  _uploadFiles,\n",
              "  _uploadFilesContinue,\n",
              "};\n",
              "})(self);\n",
              "</script> "
            ]
          },
          "metadata": {}
        }
      ]
    },
    {
      "cell_type": "code",
      "source": [
        "data = pd.read_csv(\"AQUASTAT Dissemination System.csv\")\n",
        "data.head()"
      ],
      "metadata": {
        "id": "4VuXnAkkd2hK"
      },
      "execution_count": null,
      "outputs": []
    },
    {
      "cell_type": "code",
      "source": [
        "new_data = data.copy()\n",
        "display(new_data.head())"
      ],
      "metadata": {
        "id": "qZUvv-YNo0Rb"
      },
      "execution_count": null,
      "outputs": []
    },
    {
      "cell_type": "code",
      "source": [
        "new_data.tail()"
      ],
      "metadata": {
        "id": "YHbmgEsemRJW"
      },
      "execution_count": null,
      "outputs": []
    },
    {
      "cell_type": "code",
      "source": [
        "new_data.info()"
      ],
      "metadata": {
        "id": "xfISY1raloI-"
      },
      "execution_count": null,
      "outputs": []
    },
    {
      "cell_type": "code",
      "source": [
        "new_data.isnull().any()"
      ],
      "metadata": {
        "id": "6FHxQ8r1mlxM"
      },
      "execution_count": null,
      "outputs": []
    },
    {
      "cell_type": "code",
      "source": [
        "new_data.describe()"
      ],
      "metadata": {
        "id": "1-BZmkmAmdl_"
      },
      "execution_count": null,
      "outputs": []
    },
    {
      "cell_type": "markdown",
      "source": [
        "## Adımlar:\n",
        "\n",
        "1-Veriyi gözlemleme: head() ve tail() ile ilk ve son satırlara bakıldı.\n",
        "\n",
        "2-Yapıyı incele: info() ile kolonları, veri tiplerini ve boş değerleri kontrol edildi.\n",
        "\n",
        "3-Sayısal veriyi özetle: describe() ile toplam, ortalama, medyan, standart sapma ve min/max değerleri incelendi."
      ],
      "metadata": {
        "id": "IlujvYnAsyRj"
      }
    },
    {
      "cell_type": "markdown",
      "source": [
        "## 1-Fonksiyon:"
      ],
      "metadata": {
        "id": "YkGpoknruW99"
      }
    },
    {
      "cell_type": "code",
      "source": [
        "#Kolonlarda kaç farklı değer olduğu göterilir.\n",
        "def show_unique_counts(data):\n",
        "    \"\"\"\n",
        "    Her kolon için kaç farklı değer olduğunu ve tüm benzersiz değerleri eksiksiz gösterir.\n",
        "    \"\"\"\n",
        "\n",
        "    for col in data.columns:\n",
        "        unique_vals = data[col].unique()\n",
        "        count_unique = data[col].nunique()\n",
        "        print(f\"Kolon: {col}\")\n",
        "        print(f\"Farklı değer sayısı: {count_unique}\")\n",
        "        print(f\"Değerler: {unique_vals}\\n\")\n",
        "\n",
        "# Kullanımı\n",
        "show_unique_counts(data)"
      ],
      "metadata": {
        "id": "1vWv2-ycyNpd"
      },
      "execution_count": null,
      "outputs": []
    },
    {
      "cell_type": "markdown",
      "source": [
        "## 2-Fonksiyon:"
      ],
      "metadata": {
        "id": "8-q5qznouhaY"
      }
    },
    {
      "cell_type": "code",
      "source": [
        "def show_value_counts(data):\n",
        "    \"\"\"\n",
        "    Her kolon için value_counts çıktısını DataFrame olarak döndürür.\n",
        "    \"\"\"\n",
        "    value_counts_dfs = []\n",
        "    for col in data.columns:\n",
        "        print(f\"Kolon: {col}\") # Still print the column name for context\n",
        "        value_counts_df = data[col].value_counts(dropna=False).reset_index()\n",
        "        value_counts_df.columns = [col, 'count'] # Rename columns for clarity\n",
        "        value_counts_dfs.append(value_counts_df)\n",
        "    return value_counts_dfs\n",
        "\n",
        "# Kullanımı\n",
        "value_counts_tables = show_value_counts(data)\n",
        "\n",
        "# Display each DataFrame in the list\n",
        "for table in value_counts_tables:\n",
        "    display(table)"
      ],
      "metadata": {
        "id": "6DDE_NwwHaMS"
      },
      "execution_count": null,
      "outputs": []
    },
    {
      "cell_type": "markdown",
      "source": [
        "## **Verisetinin Açıklaması:**\n",
        "***************************************************\n",
        "Kolon Sayısı: 10\n",
        "\n",
        "Eksik Değer: Yok\n",
        "\n",
        "Analiz Odaklı Kolonlar: Variable, Area, Year, Value\n",
        "\n",
        "###**Temel Kolonlar**\n",
        "*********************************************\n",
        "\n",
        "**-Variable (17 gösterge):** Tarımsal, endüstriyel, belediye, toplam su çekimi; kişi başına su kullanımı; sulama, hayvancılık, enerji ve çevresel akış gibi göstergeler.\n",
        "\n",
        "**-Area (59 ülke/bölge):** Hem ülke düzeyinde (Türkiye, Fransa, ABD vb.) hem de kıtasal/toplam bölgeler (Avrupa, Kuzey Afrika, Doğu Asya).\n",
        "\n",
        "**-Year:** 2019–2022 dönemini kapsar.\n",
        "\n",
        "**-Value:** Su kullanımı miktarları, oranları ve kişi başına düşen değerler (2419 farklı sayı).\n",
        "\n",
        "### **Diğer Kolonlar**\n",
        "*********************************************************************\n",
        "\n",
        "**-Unit (3 ölçü birimi):**\n",
        "\n",
        "10^9 m³/year: Yıllık toplam su kullanımı (milyar m³).\n",
        "\n",
        "%: Toplam kullanım içindeki oran.\n",
        "\n",
        "m³/inhab/year: Kişi başına yıllık su kullanımı (m³).\n",
        "\n",
        "**-Symbol (Veri Türü):**\n",
        "\n",
        "A (Official) → Resmî kaynaklardan gelen veriler.\n",
        "\n",
        "I (Imputed) → Eksik verilerin tahminiyle doldurulmuş değerler.\n",
        "\n",
        "E (Estimate) → Resmî veri yoksa uzman/modeller tarafından üretilen tahmini değerler.\n",
        "\n",
        "X → Veri mevcut değil. (Bazı durumlarda Export (X) ihracatı ifade eder.)\n",
        "\n",
        "**-IsAggregate:**\n",
        "\n",
        "False → Tekil ülkeler\n",
        "\n",
        "True → Kıta veya küresel toplulaştırılmış değerler\n",
        "\n",
        "\n"
      ],
      "metadata": {
        "id": "QJAue-Ytxhdv"
      }
    },
    {
      "cell_type": "markdown",
      "source": [
        "IsAggregate_True = Kıtalar\n",
        "\n",
        "IsAggregate_False = Ülkeler"
      ],
      "metadata": {
        "id": "Hs8Rvq9NTogU"
      }
    },
    {
      "cell_type": "code",
      "metadata": {
        "id": "aed85e91"
      },
      "source": [
        "non_aggregate_data = new_data[new_data['IsAggregate'] == False]\n",
        "display(non_aggregate_data)"
      ],
      "execution_count": null,
      "outputs": []
    },
    {
      "cell_type": "code",
      "source": [
        "aggregate_data = new_data[new_data['IsAggregate'] == True]\n",
        "display(aggregate_data.head())"
      ],
      "metadata": {
        "id": "Xhf50JRcwrDO"
      },
      "execution_count": null,
      "outputs": []
    },
    {
      "cell_type": "markdown",
      "source": [
        "************************************************************************************************************************************************************\n",
        "*********************************************************************\n",
        "#**ÜLKELERİN ANALİZİ:**"
      ],
      "metadata": {
        "id": "eYD5gkl0zZb1"
      }
    },
    {
      "cell_type": "markdown",
      "source": [
        "\n",
        "\n",
        "## **İlk Filtreleme Adımı:Ülke Bazında Resmî (A) Su Çekimi Verilerinin Filtrelenmiş Hali (10^9 m³/Year)**\n",
        "\n",
        "**Birim seçimi (Unit):**\n",
        "\n",
        "Yalnızca 10^9 m³/year birimindeki satırlar alındı.\n",
        "\n",
        "Böylece sadece yıllık toplam su çekim miktarları (milyar m³) analiz kapsamına girdi.\n",
        "\n",
        "**Veri kaynağı (Symbol):**\n",
        "\n",
        "'A' (Official) seçildi.\n",
        "\n",
        "Yani sadece resmî kurumlar tarafından sağlanan güvenilir veriler\n",
        "kullanıldı.\n",
        "**IsAggregate:**\n",
        "False → Ülke bazındaki gözlemler alındı."
      ],
      "metadata": {
        "id": "EdgWT62dgrfI"
      }
    },
    {
      "cell_type": "code",
      "source": [
        "df_filtered = data[\n",
        "    (data['Unit'] == '10^9 m3/year') &\n",
        "    (data['Symbol'] == 'A' ) &\n",
        "    (data['IsAggregate'] == False)\n",
        "].drop(columns=['Symbol', 'IsAggregate', 'Unit','m49','VariableGroup','Subgroup'])\n",
        "\n",
        "df_filtered.info()"
      ],
      "metadata": {
        "id": "A3fvP435g70R"
      },
      "execution_count": null,
      "outputs": []
    },
    {
      "cell_type": "code",
      "source": [
        "df_filtered['Area'].value_counts().reset_index()"
      ],
      "metadata": {
        "id": "NUoP5Dduh3k6"
      },
      "execution_count": null,
      "outputs": []
    },
    {
      "cell_type": "code",
      "source": [
        "df_filtered['Variable'].value_counts().reset_index()"
      ],
      "metadata": {
        "id": "aLH219cxii7F"
      },
      "execution_count": null,
      "outputs": []
    },
    {
      "cell_type": "markdown",
      "source": [
        "-'Environment Flow Requirements ' 1 değer olduğu icin bunu dahil etmiyoruz."
      ],
      "metadata": {
        "id": "jy3ZFRjenTyN"
      }
    },
    {
      "cell_type": "code",
      "source": [
        "exclude_vars = ['Environmental Flow Requirements']\n",
        "\n",
        "# Filtrele\n",
        "df_filtered = df_filtered[~df_filtered['Variable'].isin(exclude_vars)]"
      ],
      "metadata": {
        "id": "yWPvnjpCnQ3w"
      },
      "execution_count": null,
      "outputs": []
    },
    {
      "cell_type": "markdown",
      "source": [
        "### Aralık Atama:\n",
        "-'value'degerlerini örnegin '0.692' ya da '7.392' gibi degerleri bir aralıga atıyoruz '0-1','1-3','3-5','5+' seklinde."
      ],
      "metadata": {
        "id": "KLnEJ60inoDi"
      }
    },
    {
      "cell_type": "code",
      "source": [
        "bins = [0, 1, 3, 5, df_filtered['Value'].max()]\n",
        "labels = ['0-1', '1-3', '3-5', '5+']\n",
        "\n",
        "df_filtered['Value_range'] = pd.cut(df_filtered['Value'], bins=bins, labels=labels, include_lowest=True)\n"
      ],
      "metadata": {
        "id": "w2kuTwu6nkdA"
      },
      "execution_count": null,
      "outputs": []
    },
    {
      "cell_type": "code",
      "source": [
        "df_filtered = df_filtered.reset_index(drop=True)\n",
        "df_filtered.head()"
      ],
      "metadata": {
        "id": "Gj6fYi-HoAkb"
      },
      "execution_count": null,
      "outputs": []
    },
    {
      "cell_type": "markdown",
      "source": [
        "### Segment\n",
        "-'Value_Range'sütununa göre segment ekliyoruz."
      ],
      "metadata": {
        "id": "81huF1LIvPNq"
      }
    },
    {
      "cell_type": "code",
      "source": [
        "# Segment ekleme (Value_range'e göre)\n",
        "segment_map = {\n",
        "    '0-1': 'Low',\n",
        "    '1-3': 'Medium',\n",
        "    '3-5': 'High',\n",
        "    '5+': 'Very High'\n",
        "}\n",
        "\n",
        "df_filtered['Segment'] = df_filtered['Value_range'].map(segment_map)\n",
        "df_filtered.head()"
      ],
      "metadata": {
        "id": "1yZbojTcoDU1"
      },
      "execution_count": null,
      "outputs": []
    },
    {
      "cell_type": "markdown",
      "source": [],
      "metadata": {
        "id": "XjluVHrUvGJC"
      }
    },
    {
      "cell_type": "code",
      "source": [
        "pivot = df_filtered.pivot_table(index='Area', columns='Year', values='Segment', aggfunc='first')\n",
        "print(pivot)"
      ],
      "metadata": {
        "id": "EhgjOYQivewv"
      },
      "execution_count": null,
      "outputs": []
    },
    {
      "cell_type": "code",
      "source": [
        "pivot = df_filtered.pivot_table(index='Area', columns='Year', values='Segment', aggfunc='first')\n",
        "print(pivot)\n"
      ],
      "metadata": {
        "id": "A-JIankHzgNJ"
      },
      "execution_count": null,
      "outputs": []
    },
    {
      "cell_type": "code",
      "source": [
        "# Tüm yılları ve ülkelerde veri olan satırları al\n",
        "df_complete = df_filtered.dropna(subset=['Segment'])\n",
        "df_complete.head(90)"
      ],
      "metadata": {
        "id": "42aqB0tt1acJ"
      },
      "execution_count": null,
      "outputs": []
    },
    {
      "cell_type": "markdown",
      "source": [
        "## **Hangi Su Kullanım Türü Türkiye’de En Fazla:Çubuk Grafiği**\n",
        "-\"Variable\" kolonu \"Total water withdrawal\" olmayan satırlar filtreleniyor.\n",
        "\n",
        "-Her grup için \"Value\" kolonunun ortalaması alındı.\n",
        "Sonuçlar büyükten küçüğe doğru sıralandı."
      ],
      "metadata": {
        "id": "7LXpOQ5o1wgE"
      }
    },
    {
      "cell_type": "code",
      "source": [
        "# Türkiye'nin verilerini al\n",
        "turkiye_all = df_complete[df_complete['Area'] == 'Türkiye']\n",
        "\n",
        "# \"Total water withdrawal\" dışındakileri seç\n",
        "turkiye_vars = turkiye_all[turkiye_all['Variable'] != 'Total water withdrawal']\n",
        "\n",
        "# Değişken bazında ortalama al\n",
        "turkiye_summary = turkiye_vars.groupby('Variable')['Value'].mean().sort_values(ascending=False)\n",
        "\n",
        "print(turkiye_summary)"
      ],
      "metadata": {
        "id": "RMdreN8S1qMS"
      },
      "execution_count": null,
      "outputs": []
    },
    {
      "cell_type": "code",
      "source": [
        "keep_vars = [\n",
        "    \"Agricultural water withdrawal\",\n",
        "    \"Industrial water withdrawal\",\n",
        "    \"Municipal water withdrawal\"\n",
        "]\n",
        "\n",
        "turkiye_filtered = turkiye_vars[turkiye_vars[\"Variable\"].isin(keep_vars)]\n",
        "\n",
        "# Ortalama değerleri hesapla\n",
        "turkiye_summary = (\n",
        "    turkiye_filtered.groupby(\"Variable\")[\"Value\"]\n",
        "    .mean()\n",
        "    .sort_values(ascending=False)\n",
        ")\n",
        "\n",
        "# Grafik çiz\n",
        "plt.figure(figsize=(10,6))\n",
        "sns.barplot(x=turkiye_summary.values, y=turkiye_summary.index, palette=\"viridis\")\n",
        "plt.title(\"Türkiye: Average Water Use (2019–2022)\")\n",
        "plt.xlabel(\"Value (10^9 m³/year)\")\n",
        "plt.ylabel(\"Variable\")\n",
        "plt.show()"
      ],
      "metadata": {
        "id": "JWtUzDCk2K9O"
      },
      "execution_count": null,
      "outputs": []
    },
    {
      "cell_type": "markdown",
      "source": [
        "## **En Yüksek Su Kullanımı: Sektör ve Ülke Bazında:Çubuk Grafiği**\n",
        "-Bu grafik, her bir su kullanım türü (Variable) için en yüksek su çekim miktarını gösterir.\n",
        "\n",
        "-Çubukların uzunluğu, Value (10^9 m³/year) cinsinden su kullanımını temsil eder.\n",
        "\n",
        "-Her çubuğun yanında, bu maksimum değeri sağlayan ülke adı gösterilmiştir.\n",
        "\n",
        "-Amaç: Hangi ülkelerin hangi su kullanım alanında en yüksek tüketimi gerçekleştirdiğini görsel olarak karşılaştırmak."
      ],
      "metadata": {
        "id": "m38qSf6J2Xpu"
      }
    },
    {
      "cell_type": "code",
      "source": [
        "max_values = []\n",
        "variables = df_filtered['Variable'].unique()\n",
        "\n",
        "for var in variables:\n",
        "    var_data = df_filtered[df_filtered['Variable'] == var]\n",
        "    if not var_data.empty:\n",
        "        max_row = var_data.loc[var_data['Value'].idxmax()]\n",
        "        max_values.append({\n",
        "            'Variable': var,\n",
        "            'Country': max_row['Area'],\n",
        "            'Value': max_row['Value']\n",
        "        })\n",
        "\n",
        "max_df = pd.DataFrame(max_values)\n",
        "# Gösterilecek sektörler\n",
        "selected_vars = [\n",
        "    'Municipal water withdrawal',\n",
        "    'Industrial water withdrawal',\n",
        "    'Agricultural water withdrawal'\n",
        "]\n",
        "\n",
        "# max_df’i filtrele\n",
        "filtered_df = max_df[max_df['Variable'].isin(selected_vars)]\n",
        "\n",
        "# Sıralama (yatay barplotta en yüksek üstte olacak)\n",
        "filtered_df = filtered_df.sort_values('Value', ascending=True)\n",
        "\n",
        "# Grafik\n",
        "plt.figure(figsize=(10,5))\n",
        "sns.barplot(x='Value', y='Variable', data=filtered_df, palette='coolwarm')\n",
        "\n",
        "# Ülke isimlerini barın yanında göster\n",
        "for i, row in enumerate(filtered_df.itertuples()):\n",
        "    plt.text(row.Value * 1.01, i, row.Country, va='center', fontsize=10)\n",
        "\n",
        "plt.xlabel('Water Usage (10^9 m³/year)')\n",
        "plt.ylabel('Variable')\n",
        "plt.title('Highest Water Consumption: Selected Sectors')\n",
        "plt.tight_layout()\n",
        "plt.show()\n"
      ],
      "metadata": {
        "id": "jSp_qPVH2Rro"
      },
      "execution_count": null,
      "outputs": []
    },
    {
      "cell_type": "markdown",
      "source": [
        "## **İlk Analiz Sonucu:**\n",
        "İlk analizimizde yalnızca resmî kaynaklı (A) veriler kullanıldı. Ancak bazı yıllara ait resmi veriler eksikti (NaN), bu da birçok ülkenin analiz dışında kalmasına yol açtı. Bu nedenle, analizimizi symbol filtresini kaldırarak tüm veriler üzerinden tekrar yapmaya karar verdik.\n",
        "************************************************************************************************************************************************************\n",
        "************************************************************************************************************************************************************"
      ],
      "metadata": {
        "id": "OFUUbDgq2_bs"
      }
    },
    {
      "cell_type": "markdown",
      "source": [
        "## **İkinci Filtreleme Adımı:Ülke Bazında 10^9 m³/Yıl Birimindeki Su Çekimi**"
      ],
      "metadata": {
        "id": "G2txdrD53W6Y"
      }
    },
    {
      "cell_type": "code",
      "source": [
        "df_filtered_ = data[\n",
        "    (data['Unit'] == '10^9 m3/year') &\n",
        "    (data['IsAggregate'] == False)\n",
        "].drop(columns=['Symbol', 'IsAggregate', 'Unit','m49','VariableGroup','Subgroup'])\n",
        "\n",
        "df_filtered_.info()"
      ],
      "metadata": {
        "id": "-2T0kN6GeVbF"
      },
      "execution_count": null,
      "outputs": []
    },
    {
      "cell_type": "code",
      "source": [
        "df_filtered_.reset_index(drop=True)"
      ],
      "metadata": {
        "id": "6GZtDlTwenuB"
      },
      "execution_count": null,
      "outputs": []
    },
    {
      "cell_type": "code",
      "source": [
        "df_filtered_['Variable'].value_counts()"
      ],
      "metadata": {
        "id": "9F9q4YjZer3s"
      },
      "execution_count": null,
      "outputs": []
    },
    {
      "cell_type": "markdown",
      "source": [
        "## **\"Variable\" Filtreleme:**\n",
        "Burada daha çok verisi olan ve anlaşılır olan sektör başlıklarını alıyoruz :\n",
        "\n",
        "Agricultural water withdrawal: Tarımsal su çekimi\n",
        "\n",
        "Industrial water withdrawal: Endüstriyel su çekimi\n",
        "\n",
        "Municipal water withdrawal: Belediye (kentsel) su çekimi\n"
      ],
      "metadata": {
        "id": "vz93ufjje1KU"
      }
    },
    {
      "cell_type": "code",
      "source": [
        "# Önemli ve okunaklı değişkenler\n",
        "selected_variables = [\n",
        "    'Agricultural water withdrawal',\n",
        "    'Industrial water withdrawal',\n",
        "    'Municipal water withdrawal',\n",
        "\n",
        "]\n",
        "\n",
        "# Filtreleme\n",
        "df_filtered_= df_filtered_[df_filtered_['Variable'].isin(selected_variables)]"
      ],
      "metadata": {
        "id": "ilwuDANKfdh9"
      },
      "execution_count": null,
      "outputs": []
    },
    {
      "cell_type": "markdown",
      "source": [
        "Burada ülkeleri kıtalara bölmek adına bir sözlük oluşturduk:"
      ],
      "metadata": {
        "id": "Js6PhQwIf9Mx"
      }
    },
    {
      "cell_type": "code",
      "source": [
        "country_to_region = {\n",
        "    # Europe\n",
        "    \"Albania\": \"Europe\",\n",
        "    \"Finland\": \"Europe\",\n",
        "    \"Ukraine\": \"Europe\",\n",
        "    \"Serbia\": \"Europe\",\n",
        "    \"Romania\": \"Europe\",\n",
        "    \"Republic of Moldova\": \"Europe\",\n",
        "    \"Poland\": \"Europe\",\n",
        "    \"Netherlands (Kingdom of the)\": \"Europe\",\n",
        "    \"Lithuania\": \"Europe\",\n",
        "    \"Latvia\": \"Europe\",\n",
        "    \"Ireland\": \"Europe\",\n",
        "    \"Hungary\": \"Europe\",\n",
        "    \"United Kingdom of Great Britain and Northern Ireland\": \"Europe\",\n",
        "    \"Bulgaria\": \"Europe\",\n",
        "    \"Sweden\": \"Europe\",\n",
        "    \"Belarus\": \"Europe\",\n",
        "    \"Germany\": \"Europe\",\n",
        "    \"Croatia\": \"Europe\",\n",
        "    \"Slovakia\": \"Europe\",\n",
        "    \"Spain\": \"Europe\",\n",
        "    \"Malta\": \"Europe\",\n",
        "    \"Czechia\": \"Europe\",\n",
        "    \"Denmark\": \"Europe\",\n",
        "    \"Italy\": \"Europe\",\n",
        "      # burada sen karar verebilirsin, Asya da denebilir\n",
        "    \"Estonia\": \"Europe\",\n",
        "    \"Austria\": \"Europe\",\n",
        "    \"Switzerland\": \"Europe\",\n",
        "    \"Slovenia\": \"Europe\",\n",
        "    \"France\": \"Europe\",\n",
        "    \"North Macedonia\": \"Europe\",\n",
        "    \"Portugal\": \"Europe\",\n",
        "    \"Greece\": \"Europe\",\n",
        "    \"Luxembourg\": \"Europe\",\n",
        "    \"Belgium\": \"Europe\",\n",
        "    \"Russian Federation\": \"Europe\",  # basitlik için Europe’a alıyoruz\n",
        "    \"Norway\": \"Europe\",\n",
        "    \"Iceland\": \"Europe\",\n",
        "    \"Montenegro\": \"Europe\",\n",
        "    \"Monaco\": \"Europe\",\n",
        "    \"Bosnia and Herzegovina\": \"Europe\",\n",
        "    \"Andorra\": \"Europe\",\n",
        "    \"Liechtenstein\": \"Europe\",\n",
        "\n",
        "    # Asia\n",
        "    \"Türkiye\": \"Asia\",\n",
        "    \"Mongolia\": \"Asia\",\n",
        "    \"Japan\": \"Asia\",\n",
        "    \"Republic of Korea\": \"Asia\",\n",
        "    \"Democratic People's Republic of Korea\": \"Asia\",\n",
        "\n",
        "    # Northern Africa\n",
        "    \"Tunisia\": \"Northern Africa\",\n",
        "    \"Algeria\": \"Northern Africa\",\n",
        "    \"Morocco\": \"Northern Africa\",\n",
        "    \"Egypt\": \"Northern Africa\",\n",
        "    \"Sudan\": \"Northern Africa\",\n",
        "    \"Libya\": \"Northern Africa\",\n",
        "\n",
        "    # Northern America\n",
        "    \"United States of America\": \"Northern America\",\n",
        "    \"Canada\": \"Northern America\",\n",
        "}"
      ],
      "metadata": {
        "id": "TFlk-qktfWaR"
      },
      "execution_count": null,
      "outputs": []
    },
    {
      "cell_type": "code",
      "source": [
        "df_filtered_[\"Region\"] = df_filtered_[\"Area\"].map(country_to_region)\n",
        "df_filtered_.reset_index(drop=True)"
      ],
      "metadata": {
        "id": "Kt3jmEQQgFF2"
      },
      "execution_count": null,
      "outputs": []
    },
    {
      "cell_type": "markdown",
      "source": [
        "## **Dünya Genelinde Yıllara Göre Toplam Su Çekimi (2019–2022):Çizgi Grafiği**\n",
        "\n",
        "-Yıllara göre her su kullanım türünün toplam su çekimi miktarını görselleştirmek."
      ],
      "metadata": {
        "id": "8Hejpfwng1g2"
      }
    },
    {
      "cell_type": "code",
      "source": [
        "import matplotlib.pyplot as plt\n",
        "import pandas as pd\n",
        "\n",
        "# örnek: dünya geneli toplam\n",
        "df_grouped = df_filtered_.groupby([\"Year\",\"Variable\"])[\"Value\"].sum().reset_index()\n",
        "\n",
        "plt.figure(figsize=(10,6))\n",
        "for var in df_grouped[\"Variable\"].unique():\n",
        "    subset = df_grouped[df_grouped[\"Variable\"] == var]\n",
        "    plt.plot(subset[\"Year\"], subset[\"Value\"], marker=\"o\", label=var)\n",
        "\n",
        "plt.title(\"Total Water Withdrawal (2019–2022)\")\n",
        "plt.xlabel(\"Year\")\n",
        "plt.ylabel(\"Quantity\")\n",
        "plt.legend()\n",
        "plt.show()"
      ],
      "metadata": {
        "id": "Iqdj_FSLgdEM"
      },
      "execution_count": null,
      "outputs": []
    },
    {
      "cell_type": "markdown",
      "source": [
        "### Sonuç :\n",
        "2019–2022 döneminde dünya genelinde su çekiminin en büyük payı tarımsal kullanıma aittir. Tarımı endüstri takip ederken, en düşük pay ise belediye/evsel kullanımdadır. Bu tablo, küresel ölçekte suyun büyük ölçüde tarımsal faaliyetlerde tüketildiğini ve su yönetiminde tarımsal verimliliğin kritik önem taşıdığını göstermektedir."
      ],
      "metadata": {
        "id": "6WD-LSsWbFvA"
      }
    },
    {
      "cell_type": "markdown",
      "source": [
        "## **Her Ülke İçin Yıllara Göre Toplam Su Çekimi:Çizgi Grafiği**\n"
      ],
      "metadata": {
        "id": "TVhoHyVqhkAc"
      }
    },
    {
      "cell_type": "code",
      "source": [
        "import plotly.express as px\n",
        "\n",
        "# Variable sütununu toplam (ülke+year bazlı)\n",
        "df_total = df_filtered_.groupby([\"Year\",\"Area\",\"Region\"])[\"Value\"].sum().reset_index()\n",
        "\n",
        "continents = df_total[\"Region\"].unique()\n",
        "\n",
        "for continent in continents:\n",
        "    continent_df = df_total[df_total[\"Region\"] == continent]\n",
        "\n",
        "    fig = px.line(\n",
        "        continent_df,\n",
        "        x=\"Year\",\n",
        "        y=\"Value\",\n",
        "        color=\"Area\",\n",
        "        markers=True,\n",
        "        title=f\"{continent} countries' total water withdrawal (10^9 m³/year, 2019–2022)\",\n",
        "        hover_name=\"Area\",  # Üzerine gelince ülke ismi gösterir\n",
        "        color_discrete_sequence=px.colors.qualitative.Set2  # Daha anlaşılır renkler\n",
        "    )\n",
        "\n",
        "    fig.update_layout(\n",
        "        xaxis_title=\"Year\",\n",
        "        yaxis_title=\"Total water withdrawal (10^9 m³/yıl)\",\n",
        "        legend_title=\"Country\",\n",
        "        width=1200,\n",
        "        height=700\n",
        "    )\n",
        "\n",
        "    fig.show()\n"
      ],
      "metadata": {
        "id": "2NOR4N9uhD5F"
      },
      "execution_count": null,
      "outputs": []
    },
    {
      "cell_type": "markdown",
      "source": [
        "## **Ülke ve Sektör Bazında En Yüksek Su Çekimi (2019–2022):Çubuk Grafiği**\n",
        "Bu grafikler, 2019–2022 döneminde farklı bölgelerdeki ülkelerin çeşitli su kullanım sektörlerindeki toplam su çekim miktarlarını göstermektedir. Y ekseni toplam su çekimini (10^9 m³) ifade ederken, X ekseni ülkeleri temsil eder. Her çubuk ülkeye özel renkle gösterilmiş olup, üzerine gelindiğinde ülke ve değer bilgisi görüntülenebilir."
      ],
      "metadata": {
        "id": "u8dNPFXdiGvH"
      }
    },
    {
      "cell_type": "code",
      "source": [
        "import plotly.express as px\n",
        "\n",
        "# İlgilendiğimiz bölgeler\n",
        "target_regions = [\"Europe\", \"Asia\", \"Northern Africa\", \"Northern America\"]\n",
        "\n",
        "# 2019-2022 toplam\n",
        "df_period = df_filtered_[df_filtered_['Year'].isin([2019,2020,2021,2022])]\n",
        "df_period = df_period.groupby(['Region','Variable','Area'])['Value'].sum().reset_index()\n",
        "\n",
        "# Sadece seçilen bölgeleri al\n",
        "df_period = df_period[df_period['Region'].isin(target_regions)]\n",
        "\n",
        "# Kıta / bölge renkleri\n",
        "region_colors = {\n",
        "    \"Europe\": \"#1f77b4\",         # mavi\n",
        "    \"Asia\": \"#ff7f0e\",   # turuncu\n",
        "    \"Northern Africa\": \"#2ca02c\",# yeşil\n",
        "    \"Northern America\": \"#d62728\" # kırmızı\n",
        "}\n",
        "\n",
        "sectors = df_period['Variable'].unique()\n",
        "\n",
        "for region in target_regions:\n",
        "    region_df = df_period[df_period['Region']==region]\n",
        "\n",
        "    for sector in sectors:\n",
        "        sector_df = region_df[region_df['Variable']==sector].sort_values(by='Value', ascending=False)\n",
        "        top6 = sector_df.head(6)\n",
        "\n",
        "        fig = px.bar(\n",
        "            top6,\n",
        "            x='Area',\n",
        "            y='Value',\n",
        "            color_discrete_sequence=[region_colors.get(region, '#7f7f7f')],  # bölge rengi\n",
        "            hover_data={'Variable':True,'Value':True},\n",
        "            title=f\"{region} - Highest Countries in {sector} (2019-2022)\",\n",
        "            width=900,\n",
        "            height=400\n",
        "        )\n",
        "\n",
        "        fig.update_layout(\n",
        "            yaxis_title=\"Total Water Withdrawal (10^9 m³)\",\n",
        "            xaxis_title=\"Country\",\n",
        "            showlegend=False\n",
        "        )\n",
        "\n",
        "        fig.show()\n"
      ],
      "metadata": {
        "id": "tjMLtXSlhxO6"
      },
      "execution_count": null,
      "outputs": []
    },
    {
      "cell_type": "markdown",
      "source": [
        "Buraya kadar, 10⁹ m³/yıl birimi ile ifade edilen veriler kullanılarak, her ülkenin farklı sektörlerdeki su çekimi miktarları analiz edilmiştir.\n",
        "***************************************************************\n",
        "***************************************************************"
      ],
      "metadata": {
        "id": "tpR0ZlWainXm"
      }
    },
    {
      "cell_type": "markdown",
      "source": [
        "## **Üçüncü Filitreleme Adımı: Ülke Bazında m^3/inhab/year Birimindeki Su Çekimi**"
      ],
      "metadata": {
        "id": "P8UgJnUxNkhp"
      }
    },
    {
      "cell_type": "code",
      "source": [
        "data_filtered_ = data[\n",
        "    (data['Unit'] == 'm3/inhab/year') &\n",
        "    (data['IsAggregate'] == False)\n",
        "].drop(columns=['Symbol', 'IsAggregate', 'Unit','m49','VariableGroup','Subgroup'])\n",
        "\n",
        "data_filtered_.info()"
      ],
      "metadata": {
        "id": "xAWfCixaEVnq"
      },
      "execution_count": null,
      "outputs": []
    },
    {
      "cell_type": "code",
      "source": [
        "data_filtered_.reset_index(drop=True)"
      ],
      "metadata": {
        "id": "7fnzmywBEZRx"
      },
      "execution_count": null,
      "outputs": []
    },
    {
      "cell_type": "code",
      "source": [
        "data_filtered_['Variable'].value_counts()"
      ],
      "metadata": {
        "id": "ETwN6YvYFcn0"
      },
      "execution_count": null,
      "outputs": []
    },
    {
      "cell_type": "markdown",
      "source": [
        "## **\"Variable\" Filtreleme:**\n",
        "Burada ilgili sektör başlıklarını alıyoruz :\n",
        "\n",
        "Municipal water withdrawal per capita: Kişi başı belediye (kentsel) su çekimi\n",
        "\n",
        "Agricultural water withdrawal per capita: Kişi başı tarımsal su çekimi\n",
        "\n",
        "Industrial water withdrawal per capita: Kişi başı endüstriyel su çekimi\n",
        "\n",
        "\n"
      ],
      "metadata": {
        "id": "eCsPLHRvjUZW"
      }
    },
    {
      "cell_type": "code",
      "source": [
        "# Önemli ve okunaklı değişkenler\n",
        "selected_variables1 = [\n",
        "    'Municipal water withdrawal per capita (total population)',\n",
        "    'Industrial water withdrawal per capita',\n",
        "    'Agricultural water withdrawal per capita',\n",
        "]\n",
        "\n",
        "# Filtreleme\n",
        "data_filtered_= data_filtered_[data_filtered_['Variable'].isin(selected_variables1)]"
      ],
      "metadata": {
        "id": "qRy1aCaaH5Rs"
      },
      "execution_count": null,
      "outputs": []
    },
    {
      "cell_type": "code",
      "source": [
        "data_filtered_[\"Region\"] = data_filtered_[\"Area\"].map(country_to_region)\n",
        "data_filtered_.reset_index(drop=True)"
      ],
      "metadata": {
        "id": "JUNJ8sXGFhUU"
      },
      "execution_count": null,
      "outputs": []
    },
    {
      "cell_type": "markdown",
      "source": [
        "## **Dünya Genelinde Yıllara Göre Toplam Kişi Başı Su Çekimi (2019–2022):Çizgi Grafiği**\n",
        "\n",
        "* Amaç: Yıllara göre her su kullanım türünün toplam kişi başı su çekimi miktarını görselleştirmek.\n",
        "\n",
        "* Genel Düzeyde Karşılaştırma:\n",
        " En yüksek kişi başına kullanım: Endüstriyel su çekimi (turuncu çizgi).2019–2022 arasında hep zirvede. Bu da dünya genelinde kişi başına düşen su kullanımında sanayinin tarım ve belediyeden daha baskın olduğunu gösteriyor.Orta seviyede: Tarımsal su çekimi (mavi çizgi).Sanayinin oldukça gerisinde, ama belediyeden çok daha yüksek.En düşük: Belediye su çekimi (yeşil çizgi).Kişi başına düşen en küçük kullanım hane halkı/şehir düzeyinde.\n",
        "\n",
        "* Zaman İçindeki Değişimler (2019–2022)\n",
        "\n",
        "  Sanayi (turuncu):\n",
        "  2019–2020’de yatay seyir → 2021’de zirve yapıyor → 2022’de tekrar düşüyor.Pandemi etkisi olabilir: 2020’de üretim kısıtlıydı, 2021’de toparlanma ile sanayi su talebi arttı, 2022’de tekrar düşüş eğilimi başlamış.\n",
        "\n",
        "  Tarım (mavi):\n",
        "  Hafif bir azalış trendi var (2019 → 2020 düşüyor, sonra çok hafif toparlansa da genel olarak geriliyor). Bu, ya tarımda sulama verimliliğinin arttığını ya da nüfus artışıyla kişi başına su kullanımının azaldığını gösterebilir.\n",
        "\n",
        "  Belediye (yeşil):\n",
        "  Neredeyse düz bir çizgi → 2019–2022 arasında büyük bir değişim yok. Hane halkı su kullanımı istikrarlı kalmış.\n"
      ],
      "metadata": {
        "id": "NEk_etIqkSJA"
      }
    },
    {
      "cell_type": "code",
      "source": [
        "# örnek: dünya geneli toplam\n",
        "data_grouped = data_filtered_.groupby([\"Year\",\"Variable\"])[\"Value\"].sum().reset_index()\n",
        "\n",
        "plt.figure(figsize=(10,6))\n",
        "for var in data_grouped[\"Variable\"].unique():\n",
        "    subset = data_grouped[data_grouped[\"Variable\"] == var]\n",
        "    plt.plot(subset[\"Year\"], subset[\"Value\"], marker=\"o\", label=var)\n",
        "\n",
        "plt.title(\"Total Water Extraction ((m^3/inhab/year),2019–2022)\")\n",
        "plt.xlabel(\"Year\")\n",
        "plt.ylabel(\"Quantity\")\n",
        "plt.legend()\n",
        "plt.show()"
      ],
      "metadata": {
        "id": "bAqwzu3eJPJU"
      },
      "execution_count": null,
      "outputs": []
    },
    {
      "cell_type": "markdown",
      "source": [
        "## **Her Ülke İçin Yıllara Göre Toplam Kişi Başı Su Çekimi: Çizgi Grafiği**\n"
      ],
      "metadata": {
        "id": "t8IsC1nCkvP9"
      }
    },
    {
      "cell_type": "markdown",
      "source": [
        "\n",
        "\n",
        "- Amacı: Farklı bölgeler (Avrupa, Kuzey Amerika, Kuzey Afrika, Asya) ve bu bölgelerin ülkeleri arasında kişi başına su çekim miktarlarını karşılaştırmak.Hangi ülke/bölgenin daha fazla veya daha az su kullandığını görmek.\n",
        "\n",
        "- Genel Çıkarımlar:\n",
        " Avrupa ülkelerinde su yönetimi görece dengeli ve verimli; tarım ve sanayi su tüketimleri modern tekniklerle optimize edilmiş.\n",
        "\n",
        "  Kuzey Amerika’da su kullanımı yüksek ama düşüş eğilimi var. Snayi ve tarım su yoğun ama verimli kullanım ya da su tüketim politikalarıyla düşüşte.\n",
        "\n",
        "  Kuzey Afrika’da su stresi çok belirgin: yüksek çekimlere rağmen nüfus artışı ve kıt kaynaklar nedeniyle kişi başına değer sürekli azalıyor.\n",
        "\n",
        "  Asya’da dağılım çok heterojen: Türkiye yüksek tüketici, Japonya sabit, diğerleri daha düşük seviyelerde."
      ],
      "metadata": {
        "id": "IJ3t8MFj4RQP"
      }
    },
    {
      "cell_type": "code",
      "source": [
        "import plotly.express as px\n",
        "\n",
        "# Variable sütununu toplam (ülke+year bazlı)\n",
        "data_total = data_filtered_.groupby([\"Year\",\"Area\",\"Region\"])[\"Value\"].sum().reset_index()\n",
        "\n",
        "continents = data_total[\"Region\"].unique()\n",
        "\n",
        "for continent in continents:\n",
        "    continent_df = data_total[data_total[\"Region\"] == continent]\n",
        "\n",
        "    fig = px.line(\n",
        "        continent_df,\n",
        "        x=\"Year\",\n",
        "        y=\"Value\",\n",
        "        color=\"Area\",\n",
        "        markers=True,\n",
        "        title=f\"{continent} Countries' Total Water Withdrawals Per Capita((m3/inhab/year), 2019–2022)\",\n",
        "        hover_name=\"Area\",  # Üzerine gelince ülke ismi gösterir\n",
        "        color_discrete_sequence=px.colors.qualitative.Set2  # Daha anlaşılır renkler\n",
        "    )\n",
        "\n",
        "    fig.update_layout(\n",
        "        xaxis_title=\"Year\",\n",
        "        yaxis_title=\"Totlal Water Withdrawals Per Capita ( m³/inhab/year)\",\n",
        "        legend_title=\"Country\",\n",
        "        width=1200,\n",
        "        height=700\n",
        "    )\n",
        "\n",
        "    fig.show()\n"
      ],
      "metadata": {
        "id": "RCt7BDaclQ0E"
      },
      "execution_count": null,
      "outputs": []
    },
    {
      "cell_type": "markdown",
      "source": [
        "## **Ülke ve Sektör Bazında En Yüksek Kişi Başı Su Çekimi (2019–2022): Çubuk Grafiği**\n",
        "Bu grafikler, 2019–2022 döneminde farklı bölgelerdeki ülkelerin çeşitli su kullanım sektörlerindeki kişi başı toplam su çekim miktarlarını göstermektedir. Y ekseni toplam kişi başı su çekimini (10^3 m³/inhab/year) ifade ederken, X ekseni ülkeleri temsil eder. Her çubuk ülkeye özel renkle gösterilmiş olup, üzerine gelindiğinde ülke ve değer bilgisi görüntülenebilir."
      ],
      "metadata": {
        "id": "uy2NaE9jnU6d"
      }
    },
    {
      "cell_type": "markdown",
      "source": [
        "* Amaç:\n",
        "  Bu grafiklerin amacı, bölgesel ve sektörel farklılıkları görselleştirerek hangi ülkelerin hangi alanlarda yüksek su tüketimine sahip olduğunu göstermek ve böylece su yönetimi stratejilerine ışık tutmaktır.\n",
        "* Genel çıkarımlar:\n",
        "\n",
        "  Avrupa\n",
        "  Tarımsal kullanımda: Yunanistan açık ara önde → sulamaya dayalı tarımın yüksekliği. İspanya ve Portekiz de yüksek.\n",
        "\n",
        "  Endüstriyel kullanımda: Karadağ çok dikkat çekici şekilde yüksek → küçük nüfusa rağmen yoğun sanayi su tüketimi.\n",
        "\n",
        "  Belediye kullanımında: İzlanda ve İrlanda önde → kişi başına düşen şehirsel su tüketimi fazla.\n",
        "\n",
        "  Asya\n",
        "\n",
        "  Tarımsal kullanımda: Türkiye lider → tarım suya en bağımlı sektör. Japonya da yüksek ama daha verimli görünüyor.\n",
        "\n",
        "  Endüstriyel kullanımda: Japonya ve Güney Kore önde → sanayi yoğun ülkeler. Türkiye ise düşük.\n",
        "\n",
        "  Belediye kullanımında: Güney Kore ve Japonya yüksek → şehirleşme ve yaşam standartlarının etkisi.\n",
        "\n",
        "  Kuzey Afrika\n",
        "\n",
        "  Tarımsal kullanımda: Libya, Mısır ve Sudan önde → tarımın suya bağımlılığı çok yüksek.\n",
        "\n",
        "  Endüstriyel kullanımda: Mısır ve Libya öne çıkıyor → sanayileşmenin yoğun olduğu yerler.\n",
        "\n",
        "  Belediye kullanımında: Libya ve Mısır en yüksek → su altyapısı ve tüketim alışkanlıkları etkili.\n",
        "\n",
        "  Kuzey Amerika\n",
        "\n",
        "  Tarımsal kullanımda: ABD Kanada’ya göre çok daha yüksek.\n",
        "\n",
        "  Endüstriyel kullanımda: Kanada önde, ardından ABD → yoğun endüstriyel üretim.\n",
        "\n",
        "  Belediye kullanımında: ABD daha yüksek → nüfus yoğunluğu ve tüketim alışkanlıkları."
      ],
      "metadata": {
        "id": "AAy-OTMz7hgc"
      }
    },
    {
      "cell_type": "code",
      "source": [
        "import plotly.express as px\n",
        "\n",
        "# İlgilendiğimiz bölgeler\n",
        "target_regions = [\"Europe\", \"Asia\", \"Northern Africa\", \"Northern America\"]\n",
        "\n",
        "# 2019-2022 toplam\n",
        "data_period = data_filtered_[data_filtered_['Year'].isin([2019,2020,2021,2022])]\n",
        "data_period = data_period.groupby(['Region','Variable','Area'])['Value'].sum().reset_index()\n",
        "\n",
        "# Sadece seçilen bölgeleri al\n",
        "data_period = data_period[data_period['Region'].isin(target_regions)]\n",
        "\n",
        "# Kıta / bölge renkleri\n",
        "region_colors = {\n",
        "    \"Europe\": \"#1f77b4\",         # mavi\n",
        "    \"Asia\": \"#ff7f0e\",   # turuncu\n",
        "    \"Northern Africa\": \"#2ca02c\",# yeşil\n",
        "    \"Northern America\": \"#d62728\" # kırmızı\n",
        "}\n",
        "\n",
        "sectors = data_period['Variable'].unique()\n",
        "\n",
        "for region in target_regions:\n",
        "    region_df = data_period[data_period['Region']==region]\n",
        "\n",
        "    for sector in sectors:\n",
        "        sector_df = region_df[region_df['Variable']==sector].sort_values(by='Value', ascending=False)\n",
        "        top6 = sector_df.head(6)\n",
        "\n",
        "        fig = px.bar(\n",
        "            top6,\n",
        "            x='Area',\n",
        "            y='Value',\n",
        "            color_discrete_sequence=[region_colors.get(region, '#7f7f7f')],  # bölge rengi\n",
        "            hover_data={'Variable':True,'Value':True},\n",
        "            title=f\"{region} - Highest Countries in {sector} (2019-2022)\",\n",
        "            width=900,\n",
        "            height=400\n",
        "        )\n",
        "\n",
        "        fig.update_layout(\n",
        "            yaxis_title=\"Total Water Withdrawal ( m³/inhab/year)\",\n",
        "            xaxis_title=\"Country\",\n",
        "            showlegend=False\n",
        "        )\n",
        "\n",
        "        fig.show()\n"
      ],
      "metadata": {
        "id": "bfZc2GXEnwlw"
      },
      "execution_count": null,
      "outputs": []
    },
    {
      "cell_type": "markdown",
      "source": [
        "Buraya kadar, m³/inhab/year birimi ile ifade edilen veriler kullanılarak, her ülkenin farklı sektörlerdeki kişi başı su çekimi miktarları analiz edilmiştir.\n",
        "***************************************************************\n",
        "***************************************************************"
      ],
      "metadata": {
        "id": "L7wfkPWRp_Fc"
      }
    },
    {
      "cell_type": "markdown",
      "source": [
        "# **KITA BAZINDA GENEL GRAFİKLER**"
      ],
      "metadata": {
        "id": "ozrKO03uyYWA"
      }
    },
    {
      "cell_type": "code",
      "source": [
        "import pandas as pd\n",
        "import numpy as np\n",
        "import matplotlib.pyplot as plt\n",
        "import seaborn as sns\n",
        "from matplotlib.patches import Rectangle\n",
        "import warnings\n",
        "warnings.filterwarnings('ignore')\n",
        "\n",
        "aggregate_data = new_data[new_data['IsAggregate'] == True]\n",
        "display(aggregate_data.head())\n",
        "\n",
        "aggregate_data[aggregate_data['IsAggregate']==True]['Area'].unique()\n",
        "print(aggregate_data[aggregate_data['IsAggregate'] == True]['Area'].unique())"
      ],
      "metadata": {
        "id": "_8GllSMFVLpH"
      },
      "execution_count": null,
      "outputs": []
    },
    {
      "cell_type": "code",
      "metadata": {
        "id": "ce40c232"
      },
      "source": [
        "# Define new_data by copying the original data DataFrame\n",
        "data = pd.read_csv(\"AQUASTAT Dissemination System.csv\")\n",
        "new_data = data.copy()\n",
        "\n",
        "# Original code from the selected cell\n",
        "import pandas as pd\n",
        "import numpy as np\n",
        "import matplotlib.pyplot as plt\n",
        "import seaborn as sns\n",
        "from matplotlib.patches import Rectangle\n",
        "import warnings\n",
        "warnings.filterwarnings('ignore')\n",
        "\n",
        "aggregate_data = new_data[new_data['IsAggregate'] == True]\n",
        "display(aggregate_data.head())\n",
        "\n",
        "aggregate_data[aggregate_data['IsAggregate']==True]['Area'].unique()\n",
        "print(aggregate_data[aggregate_data['IsAggregate'] == True]['Area'].unique())"
      ],
      "execution_count": null,
      "outputs": []
    },
    {
      "cell_type": "code",
      "source": [
        "# Önemli ve okunaklı değişkenler\n",
        "selected_variables = [\n",
        "    'Agricultural water withdrawal',\n",
        "    'Industrial water withdrawal',\n",
        "    'Municipal water withdrawal'\n",
        "]\n",
        "\n",
        "# Filtreleme\n",
        "aggregate_data= aggregate_data[aggregate_data['Variable'].isin(selected_variables)]"
      ],
      "metadata": {
        "id": "JoFiCI4H1J4O"
      },
      "execution_count": null,
      "outputs": []
    },
    {
      "cell_type": "markdown",
      "source": [
        "## **Her Kıtanın Tüm Yıllar Boyunca Toplam Su Kullanımının Çubuk Grafiği (Bar Chart) ve Sunburst Chart (Güneş Patlaması Grafiği) ile Gösterimi**"
      ],
      "metadata": {
        "id": "k34tCfXpzTXF"
      }
    },
    {
      "cell_type": "markdown",
      "source": [
        "Bir kıtanın toplam su kullanımının ne kadarının belirli bir amaca (örneğin, sanayi, tarım veya sulama) ayrıldığını görmemize yardımcı olmaktadır. Bu gösterim, bir karşılaştırmadan ziyade tekil bir kıtanın yapısını anlamak için kullanılmıştır.\n",
        "Grafik, Doğu Asya'nın su tüketimindeki devasa payının büyük ölçüde tarım sektöründen kaynaklandığını açıkça göstermektedir. Aynı şekilde, Avrupa veya Kuzey Amerika'da sanayi veya belediye kullanımının daha belirgin olduğu görülmektedir.\n",
        "Kuzey Afrika da ise tarım ön plandadır.\n",
        "Bu analiz, bir kıtanın su kaynakları üzerindeki ana baskının nereden geldiğini anlamak için de çok önemlidir."
      ],
      "metadata": {
        "id": "LG-BJ0IYDR2L"
      }
    },
    {
      "cell_type": "code",
      "source": [
        "import pandas as pd\n",
        "import matplotlib.pyplot as plt\n",
        "import seaborn as sns\n",
        "import warnings\n",
        "warnings.filterwarnings('ignore')\n",
        "\n",
        "# Filter aggregate_data for the selected variables\n",
        "aggregate_data = new_data[new_data['IsAggregate'] == True]\n",
        "selected_variables = [\n",
        "    'Agricultural water withdrawal',\n",
        "    'Industrial water withdrawal',\n",
        "    'Municipal water withdrawal'\n",
        "]\n",
        "filtered_aggregate_data = aggregate_data[aggregate_data['Variable'].isin(selected_variables)]\n",
        "\n",
        "# 2. Gruplama ve Toplama: Tüm yılların toplamını alarak kıta ve değişken bazında veriyi hazırlayın\n",
        "# Bu, \"kıta seviyesindeki tüm verilerin toplamı\" anlamına gelir.\n",
        "toplam_su_kullanimi = filtered_aggregate_data.groupby(['Area', 'Variable'])['Value'].sum().reset_index()\n",
        "\n",
        "# 3. Görselleştirme\n",
        "\n",
        "# Çubuk grafiği oluşturun\n",
        "plt.figure(figsize=(15, 8))\n",
        "sns.barplot(\n",
        "    data=toplam_su_kullanimi,\n",
        "    x='Area',\n",
        "    y='Value',\n",
        "    hue='Variable', # Değişkenlere göre renklendirme (gruplama)\n",
        "    palette='Spectral'\n",
        ")\n",
        "\n",
        "# Grafiğe başlık ve eksen etiketleri ekleyin\n",
        "plt.title('Kıtalara Göre Toplam Su Kullanımı (Seçilen 3 Sektör)', fontsize=16)\n",
        "plt.xlabel('Kıta', fontsize=12)\n",
        "plt.ylabel('Toplam Su Kullanımı (10^9 m³/yıl)', fontsize=12)\n",
        "plt.legend(title='Su Kullanım Türü', loc='upper right')\n",
        "\n",
        "plt.xticks(rotation=45, ha='right')\n",
        "plt.tight_layout()\n",
        "plt.show()"
      ],
      "metadata": {
        "id": "tHpqKzcl5XmT"
      },
      "execution_count": null,
      "outputs": []
    },
    {
      "cell_type": "markdown",
      "source": [
        "**Sunburst Chart (Güneş Patlaması Grafiği) ile Gösterimi** (Etkileşimli)"
      ],
      "metadata": {
        "id": "nLAl9nUZLdaD"
      }
    },
    {
      "cell_type": "markdown",
      "source": [
        "\n",
        "\n",
        "Bu grafik ile her bir dilimin üzerine geldiğinizde, o dilimin toplam içerisindeki değerini ve yüzdesini görebilirsiniz.\n",
        "Örneğin, Doğu Asya'nın iç halkasına tıkladığınızda, grafiğin odak noktası sadece Asya olacaktır, bu da o kıtanın sektörel dağılımını daha yakından incelemenize olanak tanır."
      ],
      "metadata": {
        "id": "iyItQroGMO-Z"
      }
    },
    {
      "cell_type": "code",
      "source": [
        "import pandas as pd\n",
        "import plotly.express as px\n",
        "\n",
        "# Veri yükleme ve sütun adlandırma\n",
        "# NOT: Kullanıcının belirttiği güncel dosya adı kullanıldı.\n",
        "df = pd.read_csv('AQUASTAT Dissemination System.csv')\n",
        "df.columns = ['m49', 'VariableGroup', 'Subgroup', 'Variable', 'Area', 'Year', 'Value', 'Unit', 'Symbol', 'IsAggregate']\n",
        "\n",
        "# Değişken Listesi (Percentage values)\n",
        "selected_variables = [\n",
        "    'Agricultural water withdrawal',\n",
        "    'Industrial water withdrawal',\n",
        "    'Municipal water withdrawal'\n",
        "]\n",
        "\n",
        "# Filter for selected variables and aggregate data (continents)\n",
        "df_filtered_aggregate = df[\n",
        "    df['Variable'].isin(selected_variables) &\n",
        "    (df['IsAggregate'] == True)\n",
        "].copy()\n",
        "\n",
        "\n",
        "# Toplam su kullanımı verisini al (summing percentages here will give the total percentage for each continent)\n",
        "total_water_use_aggregate = df_filtered_aggregate.groupby(['Area', 'Variable'])['Value'].sum().reset_index()\n",
        "\n",
        "# Sunburst Chart oluşturma\n",
        "fig = px.sunburst(\n",
        "    total_water_use_aggregate,\n",
        "    path=['Area', 'Variable'],\n",
        "    values='Value',\n",
        "    color='Variable',\n",
        "    color_discrete_map={\n",
        "        'Agricultural water withdrawal as % of total water withdrawal': '#6a9f53',\n",
        "        'Industrial water withdrawal as % of total water withdrawal': '#b8770d',\n",
        "        'Municipal water withdrawal as % of total withdrawal': '#256598'\n",
        "    },\n",
        "    title='Kıtalara ve Sektörlere Göre Toplam Su Kullanımı Dağılımı (%)' # Updated title\n",
        ")\n",
        "\n",
        "# GÖRSEL İYİLEŞTİRMELER\n",
        "fig.update_layout(\n",
        "    title_font_size=24, # Başlık boyutunu artırdık\n",
        "    title_x=0.5,\n",
        "    margin=dict(t=50, l=0, r=0, b=0), # Grafiği daha fazla alana yaymak için kenar boşluklarını azalttık\n",
        "    width=800, # Genişliği artırdık\n",
        "    height=800\n",
        ")\n",
        "\n",
        "# Plotly Sunburst grafiğinde eksen yazıları (xticks) yerine,\n",
        "# dilimlerin üzerindeki etiketlerin boyutunu güncelleyebiliriz.\n",
        "fig.update_traces(\n",
        "    textfont_size=16, # Etiket yazı boyutunu biraz daha büyüttük\n",
        "    insidetextorientation='radial'\n",
        ")\n",
        "\n",
        "fig.update_traces(textinfo=\"label+value\")"
      ],
      "metadata": {
        "id": "fH5e7rs9M7E8"
      },
      "execution_count": null,
      "outputs": []
    },
    {
      "cell_type": "markdown",
      "source": [
        "## **Her Kıtanın Yıllık Su Tüketimi Değişiminin Çizgi Grafiği (Line Plot) ile Gösterimi**"
      ],
      "metadata": {
        "id": "Rko_DpDwzZom"
      }
    },
    {
      "cell_type": "markdown",
      "source": [
        "\n",
        "Veride her yıl için ayrı bir değer olması sebebiyle, zaman içindeki değişim bir çizgi grafiği (line plot) ile gösterilmiştir. Bu gösterim, hangi kıtaların su tüketimini artırdığını veya azalttığını görmemize yardımcı olmaktadır.Buna göre kıtalardaki su tüketimi yıllara göre dikkat çekici bir farklılık göstermemektedir."
      ],
      "metadata": {
        "id": "A9tV1jyqDlxV"
      }
    },
    {
      "cell_type": "code",
      "source": [
        "# 2. Gruplama ve Toplama: Tüm yılların toplamını alarak kıta ve değişken bazında veriyi hazırlayın\n",
        "# Bu, \"kıta seviyesindeki tüm verilerin toplamı\" anlamına gelir.\n",
        "\n",
        "# Filter aggregate_data for the selected variables\n",
        "aggregate_data = new_data[new_data['IsAggregate'] == True]\n",
        "selected_variables = [\n",
        "    'Agricultural water withdrawal',\n",
        "    'Industrial water withdrawal',\n",
        "    'Municipal water withdrawal'\n",
        "]\n",
        "filtered_aggregate_data = aggregate_data[aggregate_data['Variable'].isin(selected_variables)]\n",
        "\n",
        "toplam_su_kullanimi = filtered_aggregate_data.groupby(['Area', 'Variable', 'Year'])['Value'].sum().reset_index()\n",
        "\n",
        "# Çizgi grafiği oluşturma\n",
        "plt.figure(figsize=(15, 8))\n",
        "sns.lineplot(\n",
        "    data=toplam_su_kullanimi,\n",
        "    x='Year',\n",
        "    y='Value',\n",
        "    hue='Area', # Her kıta için farklı bir çizgi\n",
        "    marker='o' # Veri noktalarını belirginleştirmek için\n",
        ")\n",
        "\n",
        "# Grafiğe başlık ve eksen etiketleri ekleme\n",
        "plt.title('Kıtalara Göre Yıllara Göre Toplam Su Kullanımı (Seçilen 3 Sektör)', fontsize=16)\n",
        "plt.xlabel('Yıl', fontsize=12)\n",
        "plt.ylabel('Toplam Su Kullanımı (10^9 m³/yıl)', fontsize=12)\n",
        "\n",
        "# Legend'ı dışarıya alma\n",
        "plt.legend(title='Kıta', bbox_to_anchor=(1.05, 1), loc='upper left')\n",
        "\n",
        "plt.xticks(toplam_su_kullanimi['Year'].unique())\n",
        "plt.tight_layout()\n",
        "plt.show()"
      ],
      "metadata": {
        "id": "BA3R9odODpma"
      },
      "execution_count": null,
      "outputs": []
    },
    {
      "cell_type": "markdown",
      "source": [
        "## **Her Kıtanın Su Kullanım Trendleriyle ilgili Yıllık Değişim Analizinin, Çizgi Grafiği (Line Plot) ile Gösterimi**"
      ],
      "metadata": {
        "id": "z8XYhwpjJA_i"
      }
    },
    {
      "cell_type": "markdown",
      "source": [
        "Şimdiye kadar yapılan analizler genellikle toplam değerlere odaklanmaktadır,\n",
        "Bu analiz ile, her bir kıtanın farklı su kullanım türlerinde (tarım, sanayi, belediye vb.) zaman içinde nasıl bir değişim yaşadığı görselleştirilmiştir.\n",
        "\n",
        "Bu grafik sayesinde, Doğu Asya'daki tarımsal su tüketiminin yıllar içindeki sabitliğini ve Avrupa'daki sanayi su tüketiminin ufak dalgalanmalarını tek bir bakışta görebilmekteyiz. Ayrıca 2019-2020 arası Doğu Asya da sanayi ve tarım için su kullanımında bir düşüş yaşanmış, sonraki yıllarda büyük bir dalgalanma bu alanlarda olmamıştır. Kuzey Afrika ise yıllar içinde her sektörde su tüketiminde ufak dalgalanmalar göstermiştir."
      ],
      "metadata": {
        "id": "IzxpP8amlcDv"
      }
    },
    {
      "cell_type": "code",
      "source": [
        "import pandas as pd\n",
        "import plotly.express as px\n",
        "\n",
        "# Yıllık bazda, her bir değişkenin ve kıtanın toplam su kullanımını grupla\n",
        "yillik_trend = aggregate_data.groupby(['Year', 'Area', 'Variable'])['Value'].sum().reset_index()\n",
        "\n",
        "# Önemli ve okunaklı değişkenler listesi\n",
        "selected_variables = [\n",
        "    'Agricultural water withdrawal',\n",
        "    'Industrial water withdrawal',\n",
        "    'Municipal water withdrawal'\n",
        "]\n",
        "\n",
        "# Sadece seçilen değişkenleri filtrele\n",
        "yillik_trend = yillik_trend[yillik_trend['Variable'].isin(selected_variables)]\n",
        "\n",
        "\n",
        "# Çizgi grafiğini facet_col (sütun bazlı ayırma) ile oluştur\n",
        "# Her \"Area\" (Kıta) için ayrı bir sütun/grafik oluşturulur\n",
        "fig = px.line(\n",
        "    yillik_trend,\n",
        "    x='Year',\n",
        "    y='Value',\n",
        "    color='Variable',  # Her değişken için farklı bir renk\n",
        "    line_dash='Variable', # Farklı çizgi stili ekle\n",
        "    markers=True,\n",
        "    facet_col='Area', # Her kıta için ayrı bir alt grafik oluştur\n",
        "    facet_col_wrap=4, # Her satırda en fazla 4 grafik göster\n",
        "    title='Kıtalara Göre Yıllık Su Kullanım Trendleri (2019-2022)'\n",
        ")\n",
        "\n",
        "# Alt grafik başlıklarını daha anlaşılır yap\n",
        "fig.for_each_annotation(lambda a: a.update(text=a.text.split(\"=\")[-1]))\n",
        "\n",
        "# Eksen etiketlerini ve düzeni güncelle\n",
        "fig.update_layout(\n",
        "    xaxis_title='Yıl',\n",
        "    yaxis_title='Toplam Su Kullanımı (10^9 m³/yıl)',\n",
        "    xaxis={'tickmode': 'linear'}\n",
        ")\n",
        "fig.show()"
      ],
      "metadata": {
        "id": "5GTVhJ_iJJ0Z"
      },
      "execution_count": null,
      "outputs": []
    },
    {
      "cell_type": "markdown",
      "source": [
        "## **Her Kıtanın Tarımsal Su Tüketimi (Agricultural water withdrawal) Verisinin, Çubuk Grafiği (Bar Chart) ile Gösterimi**"
      ],
      "metadata": {
        "id": "-3_PQ65yGNcS"
      }
    },
    {
      "cell_type": "markdown",
      "source": [
        "Bu analiz, her bir kıtanın tüm yıllar boyunca ne kadar tarımsal suyu\n",
        "kullandığını bize göstermektedir.\n"
      ],
      "metadata": {
        "id": "kfVbNCfxGVeR"
      }
    },
    {
      "cell_type": "markdown",
      "source": [
        "Tarımsal su tüketiminde en çok pay Doğu Asya da iken en az pay Avrupa'ya ait."
      ],
      "metadata": {
        "id": "JUsVIM3shZEQ"
      }
    },
    {
      "cell_type": "code",
      "source": [
        "# Sadece tarımsal su tüketimi verisini filtreleme (Kıtalar için)\n",
        "tarimsal_su_tuketimi = aggregate_data[aggregate_data['Variable'] == 'Agricultural water withdrawal']\n",
        "\n",
        "# Kıtalara göre tarımsal su tüketimi toplamını hesaplama\n",
        "toplam_tarimsal_su = tarimsal_su_tuketimi.groupby('Area')['Value'].sum().reset_index()\n",
        "\n",
        "# Çubuk grafiği oluşturma\n",
        "plt.figure(figsize=(12, 7))\n",
        "sns.barplot(\n",
        "    data=toplam_tarimsal_su,\n",
        "    x='Area',\n",
        "    y='Value',\n",
        "    palette='Blues_d'\n",
        ")\n",
        "\n",
        "# Başlık ve etiketler\n",
        "plt.title('Kıtalara Göre Toplam Tarımsal Su Tüketimi (2019-2022)', fontsize=16)\n",
        "plt.xlabel('Kıta', fontsize=12)\n",
        "plt.ylabel('Toplam Su Tüketimi (10^9 m³/yıl)', fontsize=12)\n",
        "plt.xticks(rotation=45, ha='right')\n",
        "plt.tight_layout()\n",
        "plt.show()"
      ],
      "metadata": {
        "id": "mW2ncMMDGW2Z"
      },
      "execution_count": null,
      "outputs": []
    },
    {
      "cell_type": "markdown",
      "source": [
        "## **Her Kıtanın Sanayi Su Kullanımı (Industrial water withdrawal) Verisinin,  Sunburst Chart (Güneş Patlaması Grafiği) ile Gösterimi**"
      ],
      "metadata": {
        "id": "NOKZE58mGpTZ"
      }
    },
    {
      "cell_type": "markdown",
      "source": [
        "Sunburst chart, hiyerarşik veriyi dairesel bir şekilde görselleştirir. Bu dinamik gösterimde, merkezden dışa doğru, verilerin daha alt seviyeleri gösterilmektedir. Bu veri setinde, merkezde Variable (değişken), dış halkada ise Area (kıta) yer almaktadır. Bu gösterim, toplam sanayi su kullanımının kıtalara göre nasıl dağıldığını dinamik bir şekilde görmemizi sağlar. Buna göre Kuzey Amerika da sanayi su tüketimi yüksektir. Ama Kuzey Afrika da sanayi su tüketimi en düşük seviyededir."
      ],
      "metadata": {
        "id": "jp3VOVtvGvf4"
      }
    },
    {
      "cell_type": "code",
      "source": [
        "import pandas as pd\n",
        "import plotly.express as px\n",
        "\n",
        "# Sadece sanayi su tüketimi verilerini filtreleme\n",
        "industrial_water = new_data[new_data['Variable'] == 'Industrial water withdrawal']\n",
        "\n",
        "# Kıtalara göre toplam sanayi su tüketimini hesaplama\n",
        "toplam_industrial = aggregate_data.groupby('Area')['Value'].sum().reset_index()\n",
        "\n",
        "# Sonuçları ekrana yazdırın\n",
        "print(toplam_industrial)"
      ],
      "metadata": {
        "id": "5-cp7ozHG-V_"
      },
      "execution_count": null,
      "outputs": []
    },
    {
      "cell_type": "code",
      "source": [
        "!pip install plotly"
      ],
      "metadata": {
        "id": "CF2h6qaFHFwf"
      },
      "execution_count": null,
      "outputs": []
    },
    {
      "cell_type": "code",
      "source": [
        "# Sunburst chart oluşturma\n",
        "import plotly.express as px\n",
        "import pandas as pd\n",
        "\n",
        "# Sadece sanayi su tüketimi verilerini filtreleme\n",
        "industrial_water = aggregate_data[aggregate_data['Variable'] == 'Industrial water withdrawal']\n",
        "\n",
        "# Filter out rows where 'Value' is zero\n",
        "industrial_water = industrial_water[industrial_water['Value'] > 0]\n",
        "\n",
        "# Check the data before creating the sunburst chart\n",
        "print(\"Industrial Water Data Info (after filtering zero values):\")\n",
        "industrial_water.info()\n",
        "print(\"\\nIndustrial Water Data Head (after filtering zero values):\")\n",
        "display(industrial_water.head())\n",
        "\n",
        "fig = px.sunburst(\n",
        "    industrial_water,\n",
        "    path=['Variable', 'Area'], # Merkezden dışa doğru hiyerarşi\n",
        "    values='Value',\n",
        "    color='Value',\n",
        "    color_continuous_scale='Viridis',\n",
        "    title='Kıtalara Göre Sanayi Su Tüketimi Dağılımı (Sunburst Chart)'\n",
        ")\n",
        "\n",
        "fig.update_traces(textinfo=\"label+value\")"
      ],
      "metadata": {
        "id": "tRnxpStYGzDQ"
      },
      "execution_count": null,
      "outputs": []
    },
    {
      "cell_type": "markdown",
      "source": [
        "## **Her Kıtanın Belediye Suyu Kullanım (Municipal water withdrawal) Verisinin,  Treemap (Etkileşimli Ağaç Haritası) ile Gösterimi**"
      ],
      "metadata": {
        "id": "xsU45Yqi__gR"
      }
    },
    {
      "cell_type": "markdown",
      "source": [
        "Bu grafik, hiyerarşik verileri iç içe geçmiş dikdörtgenler kullanarak gösterir. Dolayısıyla, bu grafik ile hangi kıtaların sulama suyu ihtiyacında en baskın olduğu tek bir bakışta görülebilir. Her bir dikdörtgenin boyutu, temsil ettiği değerle doğru orantılıdır. Yani, en büyük belediye suyu kullanan kıta, en büyük dikdörtgenle gösterilir.\n",
        "Buna göre, Doğu Asya, belediye su kullanımında grafiğin büyük bir kısmını kaplamaktadır.\n",
        "\n",
        "\n",
        "\n"
      ],
      "metadata": {
        "id": "6v3DYcAXIPAF"
      }
    },
    {
      "cell_type": "code",
      "source": [
        "import pandas as pd\n",
        "import plotly.express as px\n",
        "\n",
        "# Sütun adlarını basitleştirme\n",
        "# df.columns = ['m49', 'VariableGroup', 'Subgroup', 'Variable', 'Area', 'Year', 'Value', 'Unit', 'Symbol', 'IsAggregate']\n",
        "\n",
        "# Sadece belediye suyu kullanımı verilerini filtreleme\n",
        "municipal_data = aggregate_data[new_data['Variable'] == 'Municipal water withdrawal']\n",
        "\n",
        "# Kıtalara göre toplam belediye suyu kullanımını hesaplama\n",
        "toplam_belediye_suyu = municipal_data.groupby('Area')['Value'].sum().reset_index()\n",
        "\n",
        "# Sonuçlara göz atın\n",
        "print(toplam_belediye_suyu)"
      ],
      "metadata": {
        "id": "DPl9-bxMITKO"
      },
      "execution_count": null,
      "outputs": []
    },
    {
      "cell_type": "code",
      "source": [
        "import pandas as pd\n",
        "import plotly.express as px\n",
        "\n",
        "# Sadece belediye suyu kullanımı verilerini filtreleme\n",
        "municipal_data = aggregate_data[aggregate_data['Variable'] == 'Municipal water withdrawal']\n",
        "\n",
        "# Kıtalara göre toplam belediye suyu kullanımını hesaplama\n",
        "toplam_belediye_suyu = municipal_data.groupby('Area')['Value'].sum().reset_index()\n",
        "\n",
        "# Treemap oluşturma\n",
        "fig = px.treemap(\n",
        "    toplam_belediye_suyu,\n",
        "    path=[px.Constant(\"Kıtalar\"), 'Area'], # Hiyerarşi: Sabit \"Kıtalar\" kökü altında Kıta isimleri\n",
        "    values='Value',\n",
        "    color='Value',\n",
        "    color_continuous_scale='Blues', # Mavi renk skalası\n",
        "    title='Kıtalara Göre Toplam Belediye Suyu Kullanımı (2019-2022) - Treemap'\n",
        ")\n",
        "\n",
        "fig.update_layout(\n",
        "    title_font_size=24,\n",
        "    title_x=0.5,\n",
        "    margin=dict(t=50, l=0, r=0, b=0)\n",
        ")\n",
        "fig.update_traces(textinfo=\"label+value\")\n",
        "fig.show()"
      ],
      "metadata": {
        "id": "h5oNXjiRIdgN"
      },
      "execution_count": null,
      "outputs": []
    },
    {
      "cell_type": "markdown",
      "source": [
        "# **Sonuç: Kıtasal Anlamda Su Kullanımı ve Sektörel Dağılımlara Dair Önemli Çıkarımlar**"
      ],
      "metadata": {
        "id": "YX0Oi9fTLCr7"
      }
    },
    {
      "cell_type": "markdown",
      "source": [
        "1.   Tarım Sektörünün Baskınlığı: Analizlerimizde net bir şekilde görüldü ki, kıtalar genelinde su kullanımının en büyük bölümü tarımsal faaliyetler tarafından gerçekleştiriliyor. Özellikle Doğu Asya gibi bölgelerde, toplam su kullanımının büyük bir yüzdesi tarım için ayrılmış durumda.\n",
        "2.   Coğrafi Eşitsizlik: Kıtaların toplam su kullanımı arasında önemli bir fark bulunmaktadır. Nüfusu ve tarımsal üretimi yüksek olan Doğu Asya kıtası, diğer kıtalara kıyasla açık ara en yüksek su kullanımına sahiptir. Bu, küresel su kaynakları üzerindeki baskının coğrafi olarak eşit dağılmadığını göstermektedir.\n",
        "3.   Toplam Tüketim ve Kişi Başı Tüketim Farkı: Bir kıta toplamda daha az su kullanıyor gibi görünse de, nüfusu az olduğu için kişi başına düşen su kullanımı yüksek olabilir. Bu da su kaynaklarının kullanım verimliliği açısından daha derinlemesine bir değerlendirme yapılması gerektiğini gösterir.\n",
        "4.   Sektörel Önceliklerin Farklılığı: Kıtadan kıtaya su kullanım türlerinin dağılımı farklılık göstermektedir. Sanayi, belediye, ve tarım gibi sektörler, bazı bölgelerde toplam kullanım içinde daha büyük bir paya sahipken, diğerlerinde oldukça düşüktür. Bu durum, her kıtanın kendi ekonomik yapısı ve öncelikleri doğrultusunda farklı su yönetimi stratejileri benimsemesi gerektiğini işaret eder.\n",
        "\n",
        "Sonuç olarak, bu çıkarımlar, elimizdeki su yönetimi, çevresel sürdürülebilirlik ve küresel ekonomiye dair önemli bulguları bize vermektedir."
      ],
      "metadata": {
        "id": "v53Tzu0_LFxz"
      }
    },
    {
      "cell_type": "markdown",
      "source": [
        "# **KITA BAZINDA 2022 YILI GRAFİKLERİ**"
      ],
      "metadata": {
        "id": "V0HCHWgS1776"
      }
    },
    {
      "cell_type": "markdown",
      "source": [
        "## **Genel Değişkenlerin Tanımlanması**"
      ],
      "metadata": {
        "id": "WRZVmH8G1yJE"
      }
    },
    {
      "cell_type": "code",
      "source": [
        "# =============================================================================\n",
        "# Grafiklerde kullanılan ortak değişkenleri ve fonksiyonları tanımlama\n",
        "# =============================================================================\n",
        "\n",
        "# Tüm kıtalar\n",
        "continents = aggregate_data[aggregate_data['IsAggregate']==True]['Area'].unique()\n",
        "\n",
        "continents_custom_order = ['Eastern Asia', 'Northern America', 'Europe', 'Northern Africa']\n",
        "\n",
        "latest_year = aggregate_data['Year'].max()  # 2022 yılını seçmek için\n",
        "\n",
        "continent_data = new_data[(new_data['IsAggregate']==True) & (new_data['Year']==2022)]  # Kıtalar ve 2022 yılını seçmek için\n",
        "\n",
        "# 2022 yılındaki toplam su kullanımını seçmek için\n",
        "total_water_withdrawal_2022 = aggregate_data[(aggregate_data['Year']==2022) &\n",
        "                                             (aggregate_data['Variable']=='Total water withdrawal')]\n",
        "\n",
        "# Renk paleti\n",
        "\n",
        "# Kıtaların renk kodları\n",
        "continent_colors = {\n",
        "    'Eastern Asia':'#1F77B4',   # mavi\n",
        "    'Europe':'#FF7F0E',         # turuncu\n",
        "    'Northern Africa':'#2CA02C',# yeşil\n",
        "    'Northern America':'#D62728'# kırmızı\n",
        "}\n",
        "\n",
        "# Sektör renkleri\n",
        "colors_sectors = ['#6A4C93', '#FF6F61', '#1982C4', '#FFD166'] # Belediye - Tarim - Endustri - Sulama\n",
        "\n",
        "colors_sectors_dict = ['#6A4C93',  # Belediye – mor ton\n",
        "                  '#FF6F61',  # Tarım – mercan ton\n",
        "                  '#1982C4',  # Endüstri – canlı mavi\n",
        "                  '#FFD166']  # Sulama – sarı ton\n",
        "\n",
        "\n",
        "total_color = '#8AC926'\n",
        "\n"
      ],
      "metadata": {
        "id": "ag9A1xuslap2"
      },
      "execution_count": null,
      "outputs": []
    },
    {
      "cell_type": "markdown",
      "source": [
        "## **Kıtaların Toplam Su Kullanım Oranı (Pie Chart)**\n",
        "2022 yılına dair toplam su kullanım oranına baktığımızda Doğu Asya'nın 43.7lik bir oranla en fazla su kullanan kıta olduğunu görüyoruz. Onu 30.1lik bir oranla Kuzey Amerika izlemektedir. Avrupa 17.7lik bir paya sahipken en son sırada 8.5lik bir oranla Kuzey Afrika gelmektedir."
      ],
      "metadata": {
        "id": "m2NJMjHYCEeT"
      }
    },
    {
      "cell_type": "code",
      "source": [
        "# =============================================================================\n",
        "#  Kıtaların Toplam Su Kullanım Oranı(2022) (Pie Chart)\n",
        "# =============================================================================\n",
        "\n",
        "labels = total_water_withdrawal_2022['Area']\n",
        "sizes = total_water_withdrawal_2022['Value']\n",
        "colors = [continent_colors.get(area, '#333333') for area in total_water_withdrawal_2022['Area']]\n",
        "explode = [0.05]*len(labels)\n",
        "\n",
        "plt.figure(figsize=(6, 4))\n",
        "plt.pie(\n",
        "    sizes,\n",
        "    labels=labels,\n",
        "    autopct='%1.1f%%', # 43.7%, 17.7%, vs. seklinde yazabilmek icin\n",
        "    explode=explode,\n",
        "    colors=colors\n",
        ")\n",
        "plt.title(f'Total Water Withdrawal of Continents ({latest_year})', fontsize=16, fontweight='bold', pad=20)\n",
        "plt.axis('equal')\n",
        "plt.show()\n",
        "\n"
      ],
      "metadata": {
        "id": "K8WnWREfBFER"
      },
      "execution_count": null,
      "outputs": []
    },
    {
      "cell_type": "markdown",
      "source": [
        "##  **Kıtalararası Su Kullanım Karşılaştırması (Bar Chart)**\n",
        "   Bu grafik her kıtanın farklı sektörlerdeki su kullanım miktarlarını gösterir.\n",
        "   Buna göre:\n",
        "   \n",
        "*   Doğu Asya tarımsal su kullanımında lider konumda\n",
        "*   Kuzey Amerika endüstriyel su kullanımında öne çıkıyor\n",
        "*   Avrupa en dengeli su kullanım profiline sahip\n",
        "*   Kuzey Afrika sulama amaçlı su kullanımı en düşük seviyede  "
      ],
      "metadata": {
        "id": "HNZrvEYVWtI8"
      }
    },
    {
      "cell_type": "code",
      "source": [
        "agg_data = new_data[new_data['IsAggregate'] == True]\n",
        "year = 2022\n",
        "\n",
        "check_df = []\n",
        "\n",
        "for continent in agg_data['Area'].unique():\n",
        "    agri_total = agg_data[(agg_data['Area']==continent) & (agg_data['Variable']=='Agricultural water withdrawal') & (agg_data['Year']==year)]['Value'].iloc[0]\n",
        "    irr = agg_data[(agg_data['Area']==continent) & (agg_data['Variable']=='Irrigation water withdrawal') & (agg_data['Year']==year)]['Value'].iloc[0] if not agg_data[(agg_data['Area']==continent) & (agg_data['Variable']=='Irrigation water withdrawal') & (agg_data['Year']==year)].empty else 0\n",
        "    livestock = agg_data[(agg_data['Area']==continent) & (agg_data['Variable']=='Water withdrawal for livestock (watering and cleaning)') & (agg_data['Year']==year)]['Value'].iloc[0] if not agg_data[(agg_data['Area']==continent) & (agg_data['Variable']=='Water withdrawal for livestock (watering and cleaning)') & (agg_data['Year']==year)].empty else 0\n",
        "    aquaculture = agg_data[(agg_data['Area']==continent) & (agg_data['Variable']=='Water withdrawal for aquaculture') & (agg_data['Year']==year)]['Value'].iloc[0] if not agg_data[(agg_data['Area']==continent) & (agg_data['Variable']=='Water withdrawal for aquaculture') & (agg_data['Year']==year)].empty else 0\n",
        "\n",
        "    sum_parts = irr + livestock + aquaculture\n",
        "    overlap = agri_total - sum_parts\n",
        "\n",
        "    check_df.append({\n",
        "        'Continent': continent,\n",
        "        'Agricultural_total': agri_total,\n",
        "        'Sum_of_parts': sum_parts,\n",
        "        'Overlap (Agricultural - parts)': overlap\n",
        "    })\n",
        "\n",
        "import pandas as pd\n",
        "pd.DataFrame(check_df)\n"
      ],
      "metadata": {
        "id": "eN46PWY2edif"
      },
      "execution_count": null,
      "outputs": []
    },
    {
      "cell_type": "code",
      "source": [
        "# =============================================================================\n",
        "#  Kıtalararası Su Kullanım Karşılaştırması(2022) (Bar Chart)\n",
        "# =============================================================================\n",
        "\n",
        "fig, ((ax1, ax2), (ax3, ax4)) = plt.subplots(2, 2, figsize=(16, 12))\n",
        "\n",
        "# 1. Agricultural water withdrawal\n",
        "agr_data = aggregate_data[aggregate_data['Variable'] == 'Agricultural water withdrawal']\n",
        "bars1 = ax1.bar(agr_data['Area'], agr_data['Value'],\n",
        "                color=[continent_colors[area] for area in agr_data['Area']], alpha=0.8)\n",
        "ax1.set_title('Agricultural water withdrawal (2022)', fontsize=14, fontweight='bold')\n",
        "ax1.set_ylabel('Water Quantity (10⁹ m³/year)')\n",
        "ax1.tick_params(axis='x', rotation=45)\n",
        "\n",
        "# 2. Industrial water withdrawal\n",
        "ind_data = aggregate_data[aggregate_data['Variable'] == 'Industrial water withdrawal']\n",
        "bars2 = ax2.bar(ind_data['Area'], ind_data['Value'],\n",
        "                color=[continent_colors[area] for area in ind_data['Area']], alpha=0.8)\n",
        "ax2.set_title('Industrial water withdrawal (2022)', fontsize=14, fontweight='bold')\n",
        "ax2.set_ylabel('Water Quantity (10⁹ m³/year)')\n",
        "ax2.tick_params(axis='x', rotation=45)\n",
        "\n",
        "# 3. Municipal water withdrawal\n",
        "mun_data = aggregate_data[aggregate_data['Variable'] == 'Municipal water withdrawal']\n",
        "bars3 = ax3.bar(mun_data['Area'], mun_data['Value'],\n",
        "                color=[continent_colors[area] for area in mun_data['Area']], alpha=0.8)\n",
        "ax3.set_title('Municipal water withdrawal (2022)', fontsize=14, fontweight='bold')\n",
        "ax3.set_ylabel('Water Quantity (10⁹ m³/year)')\n",
        "ax3.tick_params(axis='x', rotation=45)\n",
        "\n",
        "# 4. Irrigation water withdrawal\n",
        "total_data = aggregate_data[aggregate_data['Variable'] == 'Irrigation water withdrawal']\n",
        "bars4 = ax4.bar(total_data['Area'], total_data['Value'],\n",
        "                color=[continent_colors[area] for area in total_data['Area']], alpha=0.8)\n",
        "ax4.set_title('Irrigation water withdrawal (2022)', fontsize=14, fontweight='bold')\n",
        "ax4.set_ylabel('Water Quantity (10⁹ m³/year)')\n",
        "ax4.tick_params(axis='x', rotation=45)\n",
        "\n",
        "plt.tight_layout()\n",
        "plt.suptitle('Continental Water Withdrawal - 2022',\n",
        "             fontsize=16, fontweight='bold', y=1.02)\n",
        "\n",
        "plt.show()"
      ],
      "metadata": {
        "id": "90cXTu2OzhkN"
      },
      "execution_count": null,
      "outputs": []
    },
    {
      "cell_type": "markdown",
      "source": [
        "## **Sektörel Su Dağılımı ve Tahmini Kişi Başına Su Kullanımı (Bar Chart)**"
      ],
      "metadata": {
        "id": "vt46fjJGcX7k"
      }
    },
    {
      "cell_type": "code",
      "source": [
        "fig, (ax1, ax2) = plt.subplots(1, 2, figsize=(16, 6))\n",
        "data_2022 = continent_data\n",
        "\n",
        "pivot_data = data_2022.pivot_table(\n",
        "    index='Area',\n",
        "    columns='Variable',\n",
        "    values='Value',\n",
        "    aggfunc='sum'\n",
        ")\n",
        "\n",
        "# 1. Sektörel dağılım yüzdeleri\n",
        "total_col = 'Total water withdrawal'\n",
        "agr_col = 'Agricultural water withdrawal'\n",
        "ind_col = 'Industrial water withdrawal'\n",
        "mun_col = 'Municipal water withdrawal'\n",
        "irr_col = 'Irrigation water withdrawal'\n",
        "\n",
        "pivot_data['Agr_Pct'] = (pivot_data[agr_col] / pivot_data[total_col]) * 100\n",
        "pivot_data['Ind_Pct'] = (pivot_data[ind_col] / pivot_data[total_col]) * 100\n",
        "pivot_data['Mun_Pct'] = (pivot_data[mun_col] / pivot_data[total_col]) * 100\n",
        "pivot_data['Irr_Pct'] = (pivot_data[irr_col] / pivot_data[total_col]) * 100\n",
        "\n",
        "\n",
        "# Yüzdelik dağılım grafiği\n",
        "width = 0.6\n",
        "areas = pivot_data.index\n",
        "\n",
        "colors = colors_sectors\n",
        "labels = ['Agricultural', 'Industrial', 'Municipal', 'Irrigation']\n",
        "values = ['Agr_Pct', 'Ind_Pct', 'Mun_Pct', 'Irr_Pct']\n",
        "\n",
        "bottom = 0\n",
        "for label, value, color in zip(labels, values, colors):\n",
        "    ax1.bar(areas, pivot_data[value], width, bottom=bottom, label=label, color=color)\n",
        "    bottom += pivot_data[value]\n",
        "\n",
        "\n",
        "ax1.set_ylabel('Percent (%)')\n",
        "ax1.set_title('Sectoral Water Withdrawal (%)', fontweight='bold')\n",
        "ax1.legend()\n",
        "ax1.tick_params(axis='x', rotation=45)\n",
        "\n",
        "# 2. Kişi başına su kullanımı tahmini (nüfus verisi olmadığı için gösterimsel)\n",
        "per_capita_estimate = pivot_data[total_col] / [1670, 747, 252, 369]  # Tahmini nüfus (milyon)\n",
        "bars = ax2.bar(\n",
        "    areas,\n",
        "    per_capita_estimate,\n",
        "    color=[continent_colors[area] for area in areas],\n",
        "    alpha=0.8\n",
        ")\n",
        "ax2.set_ylabel('Water withdrawal (m³/inhab/year)')\n",
        "ax2.set_title('Water Withdrawal Per Capita Estimate', fontweight='bold')\n",
        "ax2.tick_params(axis='x', rotation=45)\n",
        "\n",
        "plt.tight_layout()\n",
        "plt.show()\n"
      ],
      "metadata": {
        "id": "eWa5FVEl_BQG"
      },
      "execution_count": null,
      "outputs": []
    },
    {
      "cell_type": "markdown",
      "source": [
        "   ## **Sektörel Su Dağılımı (Pie Chart)**\n",
        "    Bu analiz hangi kıtanın hangi sektörde ne kadar su kullandığını gösterir"
      ],
      "metadata": {
        "id": "6VpRVFfA8pRc"
      }
    },
    {
      "cell_type": "code",
      "source": [
        "fig, axes = plt.subplots(2, 2, figsize=(16, 12))\n",
        "axes = axes.flatten()\n",
        "\n",
        "areas = aggregate_data['Area'].unique()\n",
        "\n",
        "for i, area in enumerate(areas):\n",
        "    # Her kıta için sektörel veri hazırla\n",
        "    area_data = aggregate_data[aggregate_data['Area'] == area]\n",
        "\n",
        "    agr_value = area_data[area_data['Variable'] == 'Agricultural water withdrawal']['Value'].iloc[0]\n",
        "    ind_value = area_data[area_data['Variable'] == 'Industrial water withdrawal']['Value'].iloc[0]\n",
        "    mun_value = area_data[area_data['Variable'] == 'Municipal water withdrawal']['Value'].iloc[0]\n",
        "    irr_value = area_data[area_data['Variable'] == 'Irrigation water withdrawal']['Value'].iloc[0]\n",
        "\n",
        "    values = [agr_value, ind_value, mun_value, irr_value]\n",
        "    labels = ['Agricultural', 'Industrial', 'Municipal','Irrigation']\n",
        "\n",
        "    # Pasta grafiği oluştur\n",
        "    wedges, texts, autotexts = axes[i].pie(values, labels=labels, autopct='%1.1f%%',\n",
        "                                           colors=colors_sectors, startangle=90)\n",
        "\n",
        "    for autotext in autotexts:\n",
        "        autotext.set_color('black')\n",
        "        autotext.set_fontsize(12)\n",
        "\n",
        "    for text in texts:\n",
        "        text.set_fontsize(12)\n",
        "\n",
        "\n",
        "    axes[i].set_title(f'{area}\\nTotal: {sum(values):.1f} billion m³/year',\n",
        "                     fontsize=12, fontweight='bold')\n",
        "\n",
        "plt.suptitle('Continental Water Withdrawal - 2022',\n",
        "             fontsize=16, fontweight='bold')\n",
        "plt.tight_layout()\n",
        "plt.show()\n"
      ],
      "metadata": {
        "id": "bwdb2pCFuVYL"
      },
      "execution_count": null,
      "outputs": []
    },
    {
      "cell_type": "markdown",
      "source": [
        "## **Kıtalararası Sektörel Su Tüketimi Dağılımı (Pie Chart)**\n",
        "Yüzde 43.1 gibi bir payla Tarımsal Su Tüketimi en fazla olan tüketim biçimidir. Onu 28.1 ile endüstriyel tüketim izlemektedir."
      ],
      "metadata": {
        "id": "G0eH-eWpgrjb"
      }
    },
    {
      "cell_type": "code",
      "source": [
        "sector_variables = ['Agricultural', 'Industrial', 'Municipal','Irrigation']\n",
        "sector_totals = []\n",
        "sector_labels = []\n",
        "\n",
        "for sector in sector_variables:\n",
        "    sector_data = aggregate_data[aggregate_data['Variable'].str.contains(sector, case=False, na=False)]\n",
        "    if not sector_data.empty:\n",
        "        total_value = sector_data['Value'].sum()\n",
        "        sector_totals.append(total_value)\n",
        "        sector_labels.append(\n",
        "            f'{sector}' if sector == 'Agricultural' else\n",
        "            f'{sector}' if sector == 'Industrial' else\n",
        "            f'{sector}' if sector == 'Municipal' else\n",
        "            f'{sector}'\n",
        "        )\n",
        "\n",
        "plt.figure(figsize=(6, 6))\n",
        "if sector_totals:\n",
        "    colors = colors_sectors[:len(sector_totals)]\n",
        "    wedges, texts, autotexts = plt.pie(sector_totals, labels=sector_labels,\n",
        "                                       colors=colors, autopct='%1.1f%%', startangle=90)\n",
        "    plt.title('Continental Sectoral Distribution', fontweight='bold')\n",
        "\n",
        "    for autotext in autotexts:\n",
        "        autotext.set_color('black')\n",
        "        autotext.set_fontweight('bold')\n",
        "plt.show()\n"
      ],
      "metadata": {
        "id": "13__nQvogF1z"
      },
      "execution_count": null,
      "outputs": []
    },
    {
      "cell_type": "markdown",
      "source": [
        "## **Kıta Bazında Sektörel Su Kullanımı Dağılımı (Bar Chart)**\n",
        "\n",
        "\n",
        "\n",
        "Doğu Asya ve Kuzey Afrika'da su kullanımının en çok tarım alanında olduğunu görmekteyiz. Yine bu iki kıtada endüstriyel ve belediye su kullanımının tarım alanına nazaran çok küçük bir yüzdeyi kapsadığını görmekteyiz. Buna karşılık Kuzey Amerika kıtasında en fazla endüstriyel alanda su kullanılmaktadır, onu çok küçük bir farkla tarım alanı izlemektedir(yüzde 37.5). Belediye su kullanımının bu kıtada en düşük olduğu görülmektedir. Avrupa kıtasında ise yüzde 44.1lik bir oranla en fazla endüstriyel alanda su kullanılmakla birlikte belediye su kullanımı ve tarımda su kullanımının arasındaki farkın diğer üç kıtaya nazaran en az olduğu gözlemlenmektedir."
      ],
      "metadata": {
        "id": "iTqmks8CCa9N"
      }
    },
    {
      "cell_type": "code",
      "source": [
        "check_df = []\n",
        "\n",
        "for continent in continents_custom_order:\n",
        "    agri = continent_data[\n",
        "        (continent_data['Area'] == continent) &\n",
        "        (continent_data['Variable'] == 'Agricultural water withdrawal') &\n",
        "        (continent_data['Year'] == latest_year)\n",
        "    ]['Value'].iloc[0]\n",
        "\n",
        "    irr = continent_data[\n",
        "        (continent_data['Area'] == continent) &\n",
        "        (continent_data['Variable'] == 'Irrigation water withdrawal') &\n",
        "        (continent_data['Year'] == latest_year)\n",
        "    ]['Value'].iloc[0]\n",
        "\n",
        "    livestock = continent_data[\n",
        "        (continent_data['Area'] == continent) &\n",
        "        (continent_data['Variable'] == 'Water withdrawal for livestock (watering and cleaning)') &\n",
        "        (continent_data['Year'] == latest_year)\n",
        "    ]['Value'].iloc[0]\n",
        "\n",
        "    aqua = continent_data[\n",
        "        (continent_data['Area'] == continent) &\n",
        "        (continent_data['Variable'] == 'Water withdrawal for aquaculture') &\n",
        "        (continent_data['Year'] == latest_year)\n",
        "    ]['Value'].iloc[0]\n",
        "\n",
        "    check_df.append({\n",
        "        \"Continent\": continent,\n",
        "        \"Agricultural_total\": agri,\n",
        "        \"Irrigation\": irr,\n",
        "        \"Livestock\": livestock,\n",
        "        \"Aquaculture\": aqua,\n",
        "        \"Check_sum\": irr + livestock + aqua\n",
        "    })\n",
        "\n",
        "import pandas as pd\n",
        "check_df = pd.DataFrame(check_df)\n",
        "print(check_df)\n"
      ],
      "metadata": {
        "id": "TD5UxzSiXbT_"
      },
      "execution_count": null,
      "outputs": []
    },
    {
      "cell_type": "code",
      "source": [
        "continent_data = new_data[new_data['IsAggregate'] == True]\n",
        "latest_year = continent_data['Year'].max()\n",
        "\n",
        "# Yüzde değişkenleri\n",
        "percentage_variables = [\n",
        "    'Agricultural water withdrawal as % of total water withdrawal',\n",
        "    'Industrial water withdrawal as % of total water withdrawal',\n",
        "    'Municipal water withdrawal as % of total withdrawal'\n",
        "]\n",
        "\n",
        "fig, axes = plt.subplots(2, 2, figsize=(15, 10))\n",
        "axes = axes.flatten()\n",
        "\n",
        "for i, continent in enumerate(continents_custom_order):\n",
        "    # Agricultural %\n",
        "    agri_data = continent_data[\n",
        "        (continent_data['Area'] == continent) &\n",
        "        (continent_data['Variable'] == percentage_variables[0]) &\n",
        "        (continent_data['Year'] == latest_year)\n",
        "    ]\n",
        "    agri_pct = agri_data['Value'].iloc[0] if not agri_data.empty else 0\n",
        "\n",
        "    # Industrial %\n",
        "    ind_data = continent_data[\n",
        "        (continent_data['Area'] == continent) &\n",
        "        (continent_data['Variable'] == percentage_variables[1]) &\n",
        "        (continent_data['Year'] == latest_year)\n",
        "    ]\n",
        "    ind_pct = ind_data['Value'].iloc[0] if not ind_data.empty else 0\n",
        "\n",
        "    # Municipal %\n",
        "    mun_data = continent_data[\n",
        "        (continent_data['Area'] == continent) &\n",
        "        (continent_data['Variable'] == percentage_variables[2]) &\n",
        "        (continent_data['Year'] == latest_year)\n",
        "    ]\n",
        "    municipal_pct = mun_data['Value'].iloc[0] if not mun_data.empty else 0\n",
        "\n",
        "    # Irrigation % (hesaplama)\n",
        "    irr_withdrawal = continent_data[\n",
        "        (continent_data['Area'] == continent) &\n",
        "        (continent_data['Variable'] == 'Irrigation water withdrawal') &\n",
        "        (continent_data['Year'] == latest_year)\n",
        "    ]\n",
        "    total_withdrawal = continent_data[\n",
        "        (continent_data['Area'] == continent) &\n",
        "        (continent_data['Variable'] == 'Total water withdrawal') &\n",
        "        (continent_data['Year'] == latest_year)\n",
        "    ]\n",
        "\n",
        "    irr_pct = (\n",
        "        (irr_withdrawal['Value'].iloc[0] / total_withdrawal['Value'].iloc[0]) * 100\n",
        "        if not irr_withdrawal.empty and not total_withdrawal.empty else 0\n",
        "    )\n",
        "\n",
        "    categories = ['Agricultural', 'Industrial', 'Municipal', 'Irrigation']\n",
        "    values = [agri_pct, ind_pct, municipal_pct, irr_pct]\n",
        "\n",
        "    bars = axes[i].bar(categories, values, color=colors_sectors, alpha=0.8,\n",
        "                       edgecolor='black', linewidth=1)\n",
        "\n",
        "    for bar, value in zip(bars, values):\n",
        "        axes[i].text(bar.get_x() + bar.get_width()/2, bar.get_height() + 1,\n",
        "                     f'{value:.1f}%', ha='center', va='bottom',\n",
        "                     fontweight='bold', fontsize=10)\n",
        "\n",
        "    axes[i].set_title(continent, fontsize=12, fontweight='bold', pad=15)\n",
        "    axes[i].set_ylabel('Percent (%)', fontsize=10, fontweight='bold')\n",
        "    axes[i].set_ylim(0, 100)\n",
        "    axes[i].grid(axis='y', linestyle='--', alpha=0.3)\n",
        "\n",
        "plt.suptitle(f'Continental Distribution of Sectoral Water Withdrawal ({latest_year})',\n",
        "             fontsize=16, fontweight='bold', y=0.98)\n",
        "plt.tight_layout()\n",
        "plt.show()\n"
      ],
      "metadata": {
        "id": "ZSHz9lc_XG7t"
      },
      "execution_count": null,
      "outputs": []
    },
    {
      "cell_type": "code",
      "source": [
        "\n",
        "# =============================================================================\n",
        "# Kıta Bazında Sektörel Su Kullanımı Dağılımı(2022) (Bar Chart)\n",
        "# =============================================================================\n",
        "\n",
        "continent_data = new_data[new_data['IsAggregate'] == True]\n",
        "latest_year = continent_data['Year'].max()\n",
        "\n",
        "# Yüzde değişkenleri\n",
        "percentage_variables = [\n",
        "    'Agricultural water withdrawal as % of total water withdrawal',\n",
        "    'Industrial water withdrawal as % of total water withdrawal',\n",
        "    'Irrigation water withdrawal as % of total water withdrawal'\n",
        "]\n",
        "\n",
        "fig, axes = plt.subplots(2, 2, figsize=(15, 10))\n",
        "axes = axes.flatten()\n",
        "\n",
        "for i, continent in enumerate(continents_custom_order):\n",
        "    # Her kıta için ayrı grafik\n",
        "    agri_data = continent_data[\n",
        "        (continent_data['Area'] == continent) &\n",
        "        (continent_data['Variable'] == percentage_variables[0]) &\n",
        "        (continent_data['Year'] == latest_year)\n",
        "    ]\n",
        "\n",
        "    ind_data = continent_data[\n",
        "        (continent_data['Area'] == continent) &\n",
        "        (continent_data['Variable'] == percentage_variables[1]) &\n",
        "        (continent_data['Year'] == latest_year)\n",
        "    ]\n",
        "\n",
        "    irr_data = continent_data[\n",
        "    (continent_data['Area'] == continent) &\n",
        "    (continent_data['Variable'] == percentage_variables[2]) &\n",
        "    (continent_data['Year'] == latest_year)\n",
        "    ]\n",
        "\n",
        "    agri_pct = agri_data['Value'].iloc[0] if not agri_data.empty else 0\n",
        "    ind_pct = ind_data['Value'].iloc[0] if not ind_data.empty else 0\n",
        "    municipal_pct = 100 - agri_pct - ind_pct  #\n",
        "    irr_pct = irr_data['Value'].iloc[0] if not irr_data.empty else 0\n",
        "    municipal_pct = 100 - agri_pct - ind_pct - irr_pct\n",
        "\n",
        "\n",
        "    categories = ['Agricultural', 'Industrial', 'Municipal', 'Irrigation']\n",
        "    values = [agri_pct, ind_pct, municipal_pct, irr_pct]\n",
        "    # colors_sect = ['#2E8B57', '#4682B4', '#DC143C']  # Yeşil, Mavi, Kırmızı\n",
        "    colors_sect = colors_sectors\n",
        "\n",
        "    bars = axes[i].bar(categories, values, color=colors_sect, alpha=0.8,\n",
        "                      edgecolor='black', linewidth=1)\n",
        "\n",
        "\n",
        "    for bar, value in zip(bars, values):\n",
        "        axes[i].text(bar.get_x() + bar.get_width()/2, bar.get_height() + 1,\n",
        "                    f'{value:.1f}%', ha='center', va='bottom',\n",
        "                    fontweight='bold', fontsize=10)\n",
        "\n",
        "    axes[i].set_title(f'{[continent][0]}',\n",
        "                     fontsize=12, fontweight='bold', pad=15)\n",
        "    axes[i].set_ylabel('Percent (%)', fontsize=10, fontweight='bold')\n",
        "    axes[i].set_ylim(0, 100)\n",
        "    axes[i].grid(axis='y', linestyle='--', alpha=0.3)\n",
        "\n",
        "plt.suptitle(f'Continental Distribution of Sectoral Water Withdrawal ({latest_year})',\n",
        "             fontsize=16, fontweight='bold', y=0.98)\n",
        "plt.tight_layout()\n",
        "plt.show()"
      ],
      "metadata": {
        "id": "mbUVbHU9ChK4"
      },
      "execution_count": null,
      "outputs": []
    },
    {
      "cell_type": "markdown",
      "source": [
        "## **Kıtalara Göre Kişi Başı Su Kullanımı (Bar chart)**\n",
        "Bütün alanlarda (endüstri, tarım ve belediye) ve bu alanların toplamında kişibaşına düşen su miktarı en fazla Kuzey Amerika kıtasındadır."
      ],
      "metadata": {
        "id": "c-eIxq7NCk0h"
      }
    },
    {
      "cell_type": "code",
      "source": [
        "# =============================================================================\n",
        "# Kıtalara Göre Kişi Başı Su Kullanımı(2022) (Bar chart)\n",
        "# =============================================================================\n",
        "\n",
        "continent_data = new_data[new_data['IsAggregate'] == True]\n",
        "latest_year = continent_data['Year'].max()\n",
        "\n",
        "per_capita_variables = [\n",
        "    'Total water withdrawal per capita',\n",
        "    'Agricultural water withdrawal per capita',\n",
        "    'Industrial water withdrawal per capita',\n",
        "    'Municipal water withdrawal per capita (total population)'\n",
        "]\n",
        "\n",
        "fig, axes = plt.subplots(2, 2, figsize=(14, 10))\n",
        "axes = axes.flatten()\n",
        "\n",
        "for i, variable in enumerate(per_capita_variables):\n",
        "    values = []\n",
        "    labels = []\n",
        "    colors = []\n",
        "\n",
        "    for continent in continents_custom_order:\n",
        "        data = continent_data[\n",
        "            (continent_data['Area'] == continent) &\n",
        "            (continent_data['Variable'] == variable) &\n",
        "            (continent_data['Year'] == latest_year)\n",
        "        ]\n",
        "\n",
        "        if not data.empty:\n",
        "            values.append(data['Value'].iloc[0])\n",
        "            # labels.append(get_tr_labels([continent])[0])\n",
        "            labels.append([continent][0])\n",
        "            colors.append(continent_colors.get(continent, '#333333'))\n",
        "\n",
        "    bars = axes[i].bar(labels, values, color=colors, alpha=0.8,\n",
        "                      edgecolor='black', linewidth=1)\n",
        "\n",
        "    for bar, value in zip(bars, values):\n",
        "        axes[i].text(bar.get_x() + bar.get_width()/2, bar.get_height() + max(values)*0.005,\n",
        "                    f'{value:.1f}', ha='center', va='bottom',\n",
        "                    fontweight='bold', fontsize=10)\n",
        "\n",
        "    # axes[i].set_title(get_tr_variable(variable), fontsize=12, fontweight='bold', pad=15)\n",
        "        axes[i].set_title((variable), fontsize=12, fontweight='bold', pad=15)\n",
        "\n",
        "    axes[i].set_ylabel('m3/inhab/year', fontsize=10, fontweight='bold')\n",
        "    axes[i].grid(axis='y', linestyle='--', alpha=0.3)\n",
        "\n",
        "plt.suptitle(f'Per Capita Water Use by Continents ({latest_year})',\n",
        "             fontsize=16, fontweight='bold', y=1.005)\n",
        "plt.tight_layout()\n",
        "plt.show()"
      ],
      "metadata": {
        "id": "vEHd7D0NCpSO"
      },
      "execution_count": null,
      "outputs": []
    },
    {
      "cell_type": "markdown",
      "source": [
        "## **Su Kullanımı Karşılaştırması (Heatmap)**\n",
        "2022 yılına ait tüm alanlarda ve toplamda yapılan su kullanımının gözler önüne serildiği bu heatmap'te çok çarpıcı sonuçlar görülmektedir. Buna göre en az su kullanımı endüstri alanındaki 6.2 milyar metreküp ile Kuzey Afrika'da gerçekleşmiştir. En fazla su kullanımı da 437.1 milyar metreküp ile tarım alanında Doğu Asya'da olmuştur. Bu rakam Kuzey Afrika'nın endüstri için kullandığı suyun yaklaşık 70.5 katıdır!"
      ],
      "metadata": {
        "id": "A0GYCIv9Csxz"
      }
    },
    {
      "cell_type": "code",
      "source": [
        "# =============================================================================\n",
        "# Su Kullanımı Karşılaştırması(2022) (Heatmap)\n",
        "# =============================================================================\n",
        "\n",
        "continent_data = new_data[new_data['IsAggregate'] == True]\n",
        "latest_year = continent_data['Year'].max()\n",
        "\n",
        "key_variables = [\n",
        "    'Total water withdrawal',\n",
        "    'Agricultural water withdrawal',\n",
        "    'Industrial water withdrawal',\n",
        "    'Municipal water withdrawal'\n",
        "]\n",
        "\n",
        "# X ekseni labelları için Türkçe çeviri\n",
        "# x_labels = [get_tr_variable(var) for var in key_variables]\n",
        "x_labels = [(var) for var in key_variables]\n",
        "\n",
        "# x_labels_short = ['Toplam', 'Tarımsal', 'Endüstriyel', 'Belediye']\n",
        "x_labels_short = ['Total', 'Agricultural', 'Industrial', 'Municipal']\n",
        "\n",
        "\n",
        "# Create matrix\n",
        "heatmap_data = []\n",
        "for continent in continents_custom_order:\n",
        "    row = []\n",
        "    for variable in key_variables:\n",
        "        subset = continent_data[\n",
        "            (continent_data['Area'] == continent) &\n",
        "            (continent_data['Variable'] == variable) &\n",
        "            (continent_data['Year'] == latest_year)\n",
        "        ]\n",
        "        value = subset['Value'].iloc[0] if not subset.empty else 0\n",
        "        row.append(value)\n",
        "    heatmap_data.append(row)\n",
        "\n",
        "# Plot heatmap\n",
        "plt.figure(figsize=(10, 6))\n",
        "plt.xticks(rotation=0)  # Yatay etiketler\n",
        "\n",
        "sns.heatmap(heatmap_data,\n",
        "           xticklabels=x_labels_short,\n",
        "          #  yticklabels=[get_tr_labels([c])[0] for c in continents_custom_order], # Türkçe kita isimleri\n",
        "           yticklabels=[([c])[0] for c in continents_custom_order], # Türkçe kita isimleri\n",
        "\n",
        "           annot=True, fmt='.1f', cmap='Blues')\n",
        "plt.title(f'Water Withdrawal Comparison ({latest_year})', fontsize=16, fontweight='bold', pad=10)\n",
        "plt.xlabel('Water withdrawal sector', labelpad=10, fontsize=10, fontweight='bold')  # X ekseni başlığı\n",
        "plt.ylabel('Continents', labelpad=10, fontsize=10, fontweight='bold')\n",
        "plt.tight_layout()\n",
        "plt.show()"
      ],
      "metadata": {
        "id": "QFybNOO9Cwih"
      },
      "execution_count": null,
      "outputs": []
    },
    {
      "cell_type": "markdown",
      "source": [
        "## **Tarımsal Su Kullanımı (Bar Chart)**"
      ],
      "metadata": {
        "id": "qvMA9FpVfF6d"
      }
    },
    {
      "cell_type": "code",
      "source": [
        "agr_data = continent_data[continent_data['Variable'].str.contains('Agricultural', case=False, na=False)]\n",
        "\n",
        "plt.figure(figsize=(7, 5))\n",
        "if not agr_data.empty:\n",
        "    agr_by_continent = agr_data.groupby('Area')['Value'].sum().sort_values(ascending=True)\n",
        "\n",
        "    bars = plt.barh(range(len(agr_by_continent)), agr_by_continent.values,\n",
        "                    color=[continent_colors.get(area, '#95a5a6') for area in agr_by_continent.index])\n",
        "\n",
        "    plt.title('Agricultural Water Withdrawal', fontweight='bold')\n",
        "    plt.xlabel('Water quantity (1 billion/year)')\n",
        "    plt.yticks(range(len(agr_by_continent)), [area[:12] for area in agr_by_continent.index])\n",
        "\n",
        "    for i, value in enumerate(agr_by_continent.values):\n",
        "        plt.text(value + max(agr_by_continent.values) * 0.01, i,\n",
        "                 f'{value:.1f}', va='center', fontweight='bold')\n",
        "plt.show()\n"
      ],
      "metadata": {
        "id": "WVLHnI5aetl1"
      },
      "execution_count": null,
      "outputs": []
    },
    {
      "cell_type": "markdown",
      "source": [
        "## **Belediye Su Kullanımı (Bubble Chart)**\n",
        "Bu kabarcık grafiği üç veriyi aynı anda karşılaştırmamıza yardımcı oluyor: Toplam su harcamasının kişibaşına düşen miktarı y ekseninde yer alırken 2022 belediye su kullanımı x ekseninde gösterilmektedir. Kabarcıkların boyutu da ilgili kıtanın 2022 yılı toplam su kullanımını göstermektedir. Buradan görmekteyiz ki her ne kadar Doğu Asya toplam su kullanımı ve belediye su kullanımı konusunda zirvede olsa da bunun kişibaşına düşen miktarı en fazla Kuzey Amerika kıtasındadır. Bir diğer ilginç nokta da Kuzey Afrika diğer 3 kıtadan daha az belediye ve toplam su harcamış olsa da toplam suyun kişibaşına en fazla düştüğü ikinci kıtadır."
      ],
      "metadata": {
        "id": "PNvJdYp5C2NY"
      }
    },
    {
      "cell_type": "code",
      "source": [
        "# =============================================================================\n",
        "# Kıtalar Bazında Belediye Su Kullanımı (2022) (Kabarcık Grafiği)(Bubble Chart)\n",
        "# =============================================================================\n",
        "\n",
        "continent_data = new_data[(new_data['IsAggregate']==True) & (new_data['Year']==2022)]\n",
        "\n",
        "municipal_values = []\n",
        "per_capita_values = []\n",
        "bubble_sizes = []\n",
        "labels = []\n",
        "colors = []\n",
        "\n",
        "for cont in continents_custom_order:\n",
        "    total = continent_data[(continent_data['Area']==cont) &\n",
        "                           (continent_data['Variable']=='Total water withdrawal')]['Value'].iloc[0]\n",
        "    per_capita = continent_data[(continent_data['Area']==cont) &\n",
        "                                (continent_data['Variable']=='Total water withdrawal per capita')]['Value'].iloc[0]\n",
        "    municipal = continent_data[(continent_data['Area']==cont) &\n",
        "                                (continent_data['Variable']=='Municipal water withdrawal')]['Value'].iloc[0]\n",
        "\n",
        "    # Bubble boyutu: toplam su kullanımı (ölçekli)\n",
        "    bubble_size = total * 10\n",
        "\n",
        "    municipal_values.append(municipal)\n",
        "    per_capita_values.append(per_capita)\n",
        "    bubble_sizes.append(bubble_size)\n",
        "    # labels.append(get_tr_labels([cont])[0])\n",
        "    labels.append([cont][0])\n",
        "    colors.append(continent_colors.get(cont, '#333333'))\n",
        "\n",
        "# Bubble chart\n",
        "plt.figure(figsize=(12,8))\n",
        "plt.scatter(municipal_values, per_capita_values, s=bubble_sizes,\n",
        "            c=colors, alpha=0.7, edgecolors='black', linewidth=1.5)\n",
        "\n",
        "plt.margins(x=0.1, y=0.1)\n",
        "plt.text(0.98, 0.98, 'Bubble size = Total water withdrawal (10^9 m³/year)',\n",
        "         transform=plt.gca().transAxes, fontsize=11,\n",
        "         bbox=dict(boxstyle='round', facecolor='lightgray', alpha=0.8),\n",
        "         verticalalignment='top',\n",
        "         horizontalalignment='right')\n",
        "\n",
        "# Etiketler\n",
        "for i, label in enumerate(labels):\n",
        "    plt.annotate(label, (municipal_values[i], per_capita_values[i]),\n",
        "                 xytext=(10,10), textcoords='offset points',\n",
        "                 fontsize=11, fontweight='bold',\n",
        "                 bbox=dict(boxstyle='round,pad=0.3', facecolor='white', alpha=0.8))\n",
        "\n",
        "plt.xlabel('Municipal Water Withdrawal (10^9 m³/year)', fontsize=12, fontweight='bold')\n",
        "plt.ylabel('Total water withdrawal per capita (m³/inhab/year)', fontsize=12, fontweight='bold')\n",
        "plt.title('Municipal Water Withdrawal by Continents in 2022', fontsize=16, fontweight='bold', pad=20)\n",
        "plt.grid(True, linestyle='--', alpha=0.3)\n",
        "\n",
        "plt.tight_layout()\n",
        "plt.show()\n"
      ],
      "metadata": {
        "id": "xdYKVpZSC6yt"
      },
      "execution_count": null,
      "outputs": []
    },
    {
      "cell_type": "markdown",
      "source": [
        "## **Yıllara Göre Su Kullanımı (Line Chart)**\n",
        "Bu slope chart ile 2019 ve 2022 yılları arasında kullanılan toplam su miktarının çok ufak değişiklikler gösterdiğini görmekteyiz. En bariz gözüken değişim 2019 ve 2020 yılları arasında Doğu Asya'daki toplam su kullanımının azalmasıdır. Onun dışındaki tüm toplam su kullanımlarının oldukça stabil olduğu gözlemlenmektedir."
      ],
      "metadata": {
        "id": "kZAOkdXJC-Qw"
      }
    },
    {
      "cell_type": "code",
      "source": [
        "print(aggregate_data['Variable'].unique())\n",
        "\n"
      ],
      "metadata": {
        "id": "RoFq7J3CnHB7"
      },
      "execution_count": null,
      "outputs": []
    },
    {
      "cell_type": "code",
      "source": [
        "# =============================================================================\n",
        "# Kıtalar Bazında Yıllara Göre Su Kullanımı\n",
        "# =============================================================================\n",
        "subset = aggregate_data[\n",
        "    (aggregate_data['Area'].isin(continents)) &\n",
        "    (aggregate_data['Variable'].isin([\n",
        "        'Agricultural water withdrawal',\n",
        "        'Industrial water withdrawal',\n",
        "        'Irrigation water withdrawal',\n",
        "        'Municipal water withdrawal'\n",
        "    ]))\n",
        "]\n",
        "\n",
        "# Toplam su kullanımı\n",
        "subset_total = subset.groupby(['Area','Year'])['Value'].sum().reset_index()\n",
        "\n",
        "# UI iyilestirmesi - Grafikteki sira ile bilgilendirmedeki siranin eslesmesi icin\n",
        "continent_final_values = {}\n",
        "for area in continents:\n",
        "    temp = subset_total[subset_total['Area']==area].sort_values('Year')\n",
        "    continent_final_values[area] = temp['Value'].iloc[-1]\n",
        "\n",
        "continents_sorted = sorted(continents, key=lambda x: continent_final_values[x], reverse=True)\n",
        "\n",
        "plt.figure(figsize=(6,4))\n",
        "\n",
        "for area in continents_sorted:\n",
        "    temp = subset_total[subset_total['Area']==area].sort_values('Year')\n",
        "    plt.plot(temp['Year'], temp['Value'], marker='o',\n",
        "            label=[area][0],\n",
        "            color=continent_colors.get(area, '#333333'), linewidth=2)\n",
        "\n",
        "plt.xlabel('Year', fontsize=10, fontweight='bold', labelpad=10)\n",
        "plt.ylabel('Total water withdrawal (1 billion/year', fontsize=10, fontweight='bold', labelpad=10)\n",
        "plt.title('Water Use by Continents over the Year', fontsize=16, fontweight='bold', pad=10)\n",
        "plt.xticks(temp['Year'].unique())\n",
        "plt.grid(axis='y', linestyle='--', alpha=0.5)\n",
        "legend = plt.legend(title='Continents', loc='upper left', bbox_to_anchor=(1, 1.025))\n",
        "legend.get_title().set_fontweight('bold')\n",
        "\n",
        "plt.show()"
      ],
      "metadata": {
        "id": "G1zXlCe5DB23"
      },
      "execution_count": null,
      "outputs": []
    }
  ]
}